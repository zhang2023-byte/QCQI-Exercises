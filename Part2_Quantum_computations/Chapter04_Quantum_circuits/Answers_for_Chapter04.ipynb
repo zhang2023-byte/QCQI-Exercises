{
 "cells": [
  {
   "cell_type": "markdown",
   "id": "822c5cdf",
   "metadata": {},
   "source": [
    "#### E.4.1\n",
    "\n"
   ]
  },
  {
   "cell_type": "markdown",
   "id": "4d9dd7b7",
   "metadata": {},
   "source": []
  }
 ],
 "metadata": {
  "kernelspec": {
   "display_name": "base",
   "language": "python",
   "name": "python3"
  },
  "language_info": {
   "name": "python",
   "version": "3.13.1"
  }
 },
 "nbformat": 4,
 "nbformat_minor": 5
}
