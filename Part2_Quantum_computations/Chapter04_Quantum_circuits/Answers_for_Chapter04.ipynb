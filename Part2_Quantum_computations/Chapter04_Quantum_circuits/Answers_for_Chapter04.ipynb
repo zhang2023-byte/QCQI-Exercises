{
 "cells": [
  {
   "cell_type": "markdown",
   "id": "822c5cdf",
   "metadata": {},
   "source": [
    "#### E.4.1\n",
    "\n",
    "对于泡利X矩阵，两个归一化特征向量为 $\\ket{v_1}=(\\frac{1}{\\sqrt{2}}, \\frac{1}{\\sqrt{2}}), \\ket{v_2} = (\\frac{1}{\\sqrt{2}}, -\\frac{1}{\\sqrt{2}})$, 根据 $a\\ket{0}+b\\ket{1}$ 中 $a = \\cos{\\theta/2}, b = e^{i\\phi}\\sin{\\theta/2}$ 解得 $p_1 = (\\frac{\\pi}{2}, 0), p_2 = (\\frac{\\pi}{2}, \\pi)$.\n",
    "\n",
    "对于泡利Y矩阵，$\\ket{v_1}=(1, i)/\\sqrt{2}, \\ket{v_2}=(1, -i)/\\sqrt{2} \\Rightarrow p_1=(\\frac{\\pi}{2}, \\frac{\\pi}{2}), p_2=(\\frac{\\pi}{2}, \\frac{3\\pi}{2})$.\n",
    "\n",
    "对于泡利Z矩阵，$\\ket{v_1}=(1, 0), \\ket{v_2}=(0, 1) \\Rightarrow p_1=(0, 0), p_2=(\\pi, 0)$"
   ]
  },
  {
   "cell_type": "markdown",
   "id": "4d9dd7b7",
   "metadata": {},
   "source": []
  }
 ],
 "metadata": {
  "kernelspec": {
   "display_name": "base",
   "language": "python",
   "name": "python3"
  },
  "language_info": {
   "name": "python",
   "version": "3.13.1"
  }
 },
 "nbformat": 4,
 "nbformat_minor": 5
}
