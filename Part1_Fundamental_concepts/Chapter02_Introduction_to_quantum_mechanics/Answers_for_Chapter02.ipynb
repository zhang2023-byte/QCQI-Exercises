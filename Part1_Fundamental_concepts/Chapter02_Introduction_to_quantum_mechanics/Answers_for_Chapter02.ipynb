{
 "cells": [
  {
   "cell_type": "markdown",
   "id": "1e3f8493",
   "metadata": {},
   "source": [
    "#### E.2.1\n",
    "(1, -1) + (1, 2) - (2, 1) = 0"
   ]
  },
  {
   "cell_type": "markdown",
   "id": "c019817f",
   "metadata": {},
   "source": [
    "#### E.2.2\n",
    "输入基和输出基为$\\ket{0}$和$\\ket{1}$时，\n",
    "$$A = \n",
    "\\begin{bmatrix}\n",
    "0 & 1 \\\\\n",
    "1 & 0\n",
    "\\end{bmatrix}\n",
    "$$\n",
    "即为非门X。\n",
    "\n",
    "当输入基和输出基为$\\ket{+}$和$\\ket{-}$时，根据Hadamard门的效果（$H\\ket{0}=\\ket{+}$, $H\\ket{1}=\\ket{-}$我们有,\n",
    "$$\n",
    "A\\ket{+}=\\ket{-}, A\\ket{-}=\\ket{+}\\\\\n",
    "\\Leftrightarrow\n",
    "AH\\ket{0}=H\\ket{1}, AH\\ket{-1}=H\\ket{0}\\\\\n",
    "\\Leftrightarrow\n",
    "H^{-1}AH\\ket{0}=\\ket{1}, H^{-1}AH\\ket{1}=\\ket{0}\\\\\n",
    "\\Rightarrow\n",
    "H^{-1}AH = X\\\\\n",
    "\\Rightarrow\n",
    "A = HXH (因为H的逆为自身)\\\\\n",
    "$$\n",
    "\n"
   ]
  },
  {
   "cell_type": "markdown",
   "id": "b8031dde",
   "metadata": {},
   "source": [
    "#### E.2.3\n",
    "\n",
    "$$\n",
    "BA\\ket{v_i}=B\\sum_{j}A_{ji}\\ket{w_j}\\\\\n",
    "=\\sum_{j}A_{ji}B\\ket{w_j}\\\\\n",
    "=\\sum_{j}A_{ji}\\sum_{k}B_{kj}\\ket{x_k}\\\\\n",
    "=\\sum_{k}\\sum_{j}B_{kj}A_{ji}\\ket{x_k}\\\\\n",
    "令C_{ki}=\\sum_{j}B_{kj}A_{ji},则上式=\\sum_{k}C_{ki}\\ket{x_k}\n",
    "$$\n",
    "即C=BA为线性变化BA的矩阵表示"
   ]
  },
  {
   "cell_type": "markdown",
   "id": "b4f8e31a",
   "metadata": {},
   "source": [
    "#### E.2.4\n",
    "$$\n",
    "I\\ket{v_j}=\\sum_{i}I_{ij}\\ket{v_i}=\\ket{v_j}\\\\\n",
    "\\Rightarrow\n",
    "I_{ij}=\\delta_{ij}\n",
    "$$"
   ]
  },
  {
   "cell_type": "markdown",
   "id": "58f36930",
   "metadata": {},
   "source": [
    "#### E.2.5\n",
    "以上定义之函数显然满足内积的三条定义，略"
   ]
  },
  {
   "cell_type": "markdown",
   "id": "c7b12446",
   "metadata": {},
   "source": [
    "#### E.2.6\n",
    "$$\n",
    "\\Big(\\sum_{i}\\lambda_{i}\\ket{w_i}, \\ket{v}\\Big)\\\\\n",
    "=\\Big(\\ket{v}, \\sum_{i}\\lambda_{i}\\ket{w_i}\\Big)^*\\\\\n",
    "=\\sum_{i}\\lambda_{i}^*(\\ket{v}, \\ket{w_i})^*\\\\\n",
    "=\\sum_{i}\\lambda_{i}^*(\\ket{w_i}, \\ket{v})\n",
    "$$"
   ]
  },
  {
   "cell_type": "markdown",
   "id": "7a8a3980",
   "metadata": {},
   "source": [
    "#### E.2.7\n",
    "$$\n",
    "\\braket{v|w}=1*1+1*(-1)=0\\\\\n",
    "\\frac{\\ket{w}}{\\sqrt{2}}, \\frac{\\ket{v}}{\\sqrt{2}}\n",
    "$$"
   ]
  },
  {
   "cell_type": "markdown",
   "id": "105d662d",
   "metadata": {},
   "source": [
    "#### E.2.8\n",
    "易得格拉姆-施密特正交化方法产生的$\\ket{v_{k+1}}$为normalised，现在只需要证明其互相正交，即内积为0\n",
    "\n",
    "带入表达式易得对于所有$1 \\leq k \\leq d-1$, 都有$\\braket{v_1|v_{k+1}}=0$，即$\\ket{v_1}$和所有$\\ket{v_j}$都正交，其中$j\\geq 2$;\n",
    "\n",
    "同理可得对于所有$2 \\leq k \\leq d-1$，$\\ket{v_2}$和所有$\\ket{v_j}$都正交，其中$j\\geq 3$;\n",
    "\n",
    "故$\\ket{v_j}$为一组标准正交基"
   ]
  },
  {
   "cell_type": "markdown",
   "id": "2446a5e0",
   "metadata": {},
   "source": [
    "#### E.2.9\n",
    "$$\n",
    "I = \\ket{0}\\bra{0} + \\ket{1}\\bra{1}\\\\\n",
    "X = \\ket{0}\\bra{1} + \\ket{1}\\bra{0}\\\\\n",
    "Y = - i\\ket{0}\\bra{1} + i\\ket{1}\\bra{0}\\\\\n",
    "Z = \\ket{0}\\bra{0} - \\ket{1}\\bra{1}\n",
    "$$"
   ]
  },
  {
   "cell_type": "markdown",
   "id": "2e403b84",
   "metadata": {},
   "source": [
    "#### E.2.10\n",
    "根据算子的矩阵表示定义:\n",
    "$A\\ket{v_j} = \\sum_{i}A_{ij}\\ket{w_i}$\n",
    "\n",
    "则对于算子$\\ket{v_j}\\bra{v_k}$：\n",
    "$$\n",
    "(\\ket{v_j}\\bra{v_k})(\\ket{v_n}) = \\sum_{m}V_{mn}\\ket{v_m}\\\\\n",
    "\\Leftrightarrow\n",
    "\\ket{v_j}\\braket{v_k|v_n}=\\sum_{m}V_{mn}\\ket{v_m}\\\\\n",
    "\\Leftrightarrow\n",
    "\\ket{v_j}\\delta_{kn} = \\sum_{m}V_{mn}\\ket{v_m}\\\\\n",
    "$$\n",
    "根据线性无关性，当$k \\neq n$时，$V_{mn}=0$; \n",
    "\n",
    "当$k = n$，上式两边左乘$\\bra{v_m}$得到：\n",
    "$$\n",
    "\\delta_{mj} = \\sum_{m}V_{mk}\\braket{v_m|v_m}\\\\\n",
    "(根据归一化)\\Rightarrow \n",
    "V_{mk} = \\delta_{mj}\n",
    "$$\n",
    "\n",
    "即算子$\\ket{v_j}\\bra{v_k}$关于基$\\ket{v_i}$的矩阵表示只有第j行第k列为1，其余位置都为0\n"
   ]
  },
  {
   "cell_type": "markdown",
   "id": "df193266",
   "metadata": {},
   "source": [
    "#### E.2.11\n",
    "特征方程 $\\mathrm{det}(X-\\lambda I) = 0 \\Rightarrow \\lambda^2 -1 =0 \\Rightarrow \\lambda_1=1, \\lambda_2=-1$;\n",
    "对于$\\lambda_1=1$,有特征向量 $\\ket{v_1}$满足: $(X-\\lambda_1 I) \\ket{v_1} = 0$,解线性方程组得$\\ket{v_1}=(\\frac{1}{\\sqrt{2}}, \\frac{1}{\\sqrt{2}})$(归一化形式); \n",
    "对于$\\lambda_2=-1$,同上解得特征向量$\\ket{v_2} = (\\frac{1}{\\sqrt{2}}, -\\frac{1}{\\sqrt{2}})$.\n",
    "\n",
    "对于Y解得特征值及其对应的特征向量$\\lambda_1=1, \\ket{v_1}=(i, -1)/\\sqrt{2}$; $\\lambda_2=-1, \\ket{v_2}=(i, 1)/\\sqrt{2}$.\n",
    "\n",
    "对于Z解得$\\lambda_1=1, \\ket{v_1}=(1, 0)$; $\\lambda_2=-1, \\ket{v_2}=(0, 1)$\n",
    "\n",
    "泡利X,Y,Z矩阵对角化都为\n",
    "$\n",
    "\\begin{bmatrix}\n",
    "1 & 0\\\\\n",
    "0 & -1\n",
    "\\end{bmatrix}\n",
    "$"
   ]
  },
  {
   "cell_type": "markdown",
   "id": "f1115e90",
   "metadata": {},
   "source": [
    "#### E.2.12\n",
    "矩阵$A=\\begin{bmatrix}\n",
    "1 & 0\\\\\n",
    "1 & 1\n",
    "\\end{bmatrix}$只有一个特征值$\\lambda=1$,缺少足够的线性无关特征向量，故不可对角化"
   ]
  },
  {
   "cell_type": "markdown",
   "id": "fec65009",
   "metadata": {},
   "source": [
    "#### E.2.13\n",
    "根据内积对第二个参数是线性，对第一参数是共轭线性，交换两个参数顺序的内积等价于对原内积取共轭：\n",
    "$$\n",
    "(\\ket{v}, \\ket{w}\\braket{v|w}) = \\braket{v|w}(\\ket{v}, \\ket{w})\\\\\n",
    " = (\\braket{v|w}^*\\ket{v}, \\ket{w})\\\\\n",
    " = (\\ket{v}\\braket{w|v}, \\ket{w})\\\\\n",
    "$$\n",
    "根据伴随的定义，有$(\\ket{w}\\bra{v})^\\dagger = \\ket{v}\\bra{w}$"
   ]
  },
  {
   "cell_type": "markdown",
   "id": "7c786f93",
   "metadata": {},
   "source": [
    "#### E.2.14\n",
    "$$\n",
    "(\\ket{v}, \\sum_{i}a_i A_i \\ket{w})\\\\\n",
    "=\\sum_{i}a_i(\\ket{v}, A_i\\ket{w})\\\\\n",
    "=\\sum_{i}a_i(A_i^\\dagger\\ket{v}, \\ket{w})\\\\\n",
    "=(\\sum_{i}a_i^* A_i^\\dagger\\ket{v}, \\ket{w})\\\\\n",
    "\n",
    "\\Rightarrow (\\sum_{i}a_i A_i)^\\dagger = \\sum_{i}a_i^* A_i^\\dagger\n",
    "$$"
   ]
  },
  {
   "cell_type": "markdown",
   "id": "5fb86c35",
   "metadata": {},
   "source": [
    "#### E.2.15"
   ]
  },
  {
   "cell_type": "markdown",
   "id": "016f48e7",
   "metadata": {},
   "source": [
    "$$\n",
    "(A\\ket{v}, \\ket{w})\\\\\n",
    "=(\\ket{w}, A\\ket{v})^*\\\\\n",
    "=(A^\\dagger\\ket{w}, \\ket{v})^*\\\\\n",
    "=(\\ket{v}, A^\\dagger\\ket{w})\\\\\n",
    "=((A^\\dagger)^\\dagger\\ket{v}, \\ket{w})\\\\\n",
    "\\Rightarrow (A^\\dagger)^\\dagger = A\n",
    "$$"
   ]
  },
  {
   "cell_type": "markdown",
   "id": "ae9fc337",
   "metadata": {},
   "source": [
    "#### E.2.16\n",
    "\n",
    "$$\n",
    "P^2\n",
    "= \\sum_{j=1}^k \\ket{j}\\bra{j}\\sum_{i=1}^k \\ket{i}\\bra{i}\\\\\n",
    "= \\sum_{i,j=1}^k \\ket{j}\\braket{j|i}\\bra{i}\\\\\n",
    "= \\sum_{i,j=1}^k \\ket{j}\\delta_{ji}\\bra{i}\\\\\n",
    "= \\sum_{i}^k \\ket{i}\\bra{i}\n",
    "= P\n",
    "$$"
   ]
  },
  {
   "cell_type": "markdown",
   "id": "08412ac8",
   "metadata": {},
   "source": [
    "#### E.2.17"
   ]
  },
  {
   "cell_type": "markdown",
   "id": "b7afb866",
   "metadata": {},
   "source": [
    "根据谱分解定理，正规矩阵都可对角化为：$M = \\sum_{i}\\lambda_{i}\\ket{i}\\bra{i}$, 其中$\\ket{i}$为M的特征向量（对应特征值$\\lambda_i$），它们组成一组标准正交基；\n",
    "\n",
    "则 $M^\\dagger = \\sum_{i}\\lambda_{i}^*\\ket{i}\\bra{i}$, M为厄米矩阵即 $M^\\dagger = M$ 显然当且仅当 $\\lambda_{i}^* = \\lambda_{i}$，即M的特征值都为实数。"
   ]
  },
  {
   "cell_type": "markdown",
   "id": "c726169b",
   "metadata": {},
   "source": [
    "#### E.2.18\n",
    "酉矩阵为正规矩阵，根据谱分解定理，可以对角化为$U = \\sum_{i}\\lambda_{i}\\ket{i}\\bra{i}$, 则：\n",
    "\n",
    "$$\n",
    "U^\\dagger U = \\sum_{i} \\lambda_{i}\\lambda_{i}^* \\ket{i}\\bra{i} = I = \\sum_{i}\\ket{i}\\bra{i}\\\\\n",
    "\n",
    "\\Rightarrow\n",
    "\\lambda_{i}^*\\lambda_{i} = 1\n",
    "$$\n",
    "即酉矩阵的所有特征值的模都为1."
   ]
  },
  {
   "cell_type": "markdown",
   "id": "09d53822",
   "metadata": {},
   "source": [
    "#### E.2.19\n",
    "直接对泡利矩阵X,Y,Z计算即可证明它们都是厄米的和酉的。"
   ]
  },
  {
   "cell_type": "markdown",
   "id": "56c5aaca",
   "metadata": {},
   "source": [
    "#### E.2.20\n",
    "考虑算子 $U \\equiv \\sum_{i} \\ket{w_i}\\bra{v_i}$,易知其为酉算子，满足 $U^\\dagger U = U U^\\dagger = I$. 则有：\n",
    "\n",
    "$$\n",
    "A_{ij}^\\prime = \\bra{v_i}A\\ket{v_j}\\\\\n",
    "= \\bra{v_i}IAI\\ket{v_j}\\\\\n",
    "= \\bra{v_i} U^\\dagger U A U^\\dagger U \\ket{v_j}\\\\\n",
    "= (\\sum_{j}\\braket{v_i|v_j}\\bra{w_j}) U A U^\\dagger (\\sum_{i}\\ket{w_i}\\braket{v_i|v_j})\\\\\n",
    "= \\bra{w_i} U A U^\\dagger \\ket{w_j}\n",
    "$$\n",
    "\n",
    "同时考虑 $ A_{ij}^{\\prime\\prime} = \\bra{w_i} A \\ket{w_j}$, 即 $A^\\prime$ 和 $A^{\\prime\\prime}$分别是算子 $U A U^\\dagger$ 和 $A$ 在同一组标准正交基下的矩阵表示，根据矩阵表示和算子之间的对应性，我们有：$U A^\\prime U^\\dagger = A^{\\prime\\prime}$"
   ]
  },
  {
   "cell_type": "markdown",
   "id": "14f051f8",
   "metadata": {},
   "source": [
    "#### E.2.21\n",
    "依题意，要证明厄米矩阵可以对角化，我们同专题2.2一样使用数学归纳法，首先对于矩阵M维数d=1的情况它显然可以对角化；我们假设n-1维的厄米矩阵可以对角化，接下来只需要证明若n-1维厄米矩阵可以对角化，则n维厄米矩阵可以对角化；如此就证明了对于任意维度的厄米矩阵可以对角化，证明如下：\n",
    "\n",
    "设$\\lambda$是M的一个特征值，P是到$\\lambda$本征空间上的投影，Q是到其正交补的投影，则：$M = (P+Q)M(P+Q) = PMP + QMP + PMQ + QMQ$.\n",
    "\n",
    "显然$PMP = \\lambda P; ~QMP = 0$,接下来证明$PMQ = 0$: \n",
    "$$\n",
    "因为M^\\dagger = M, QMP = 0 \\Rightarrow QM^\\dagger P = 0, 对该式取伴随运算（P和Q都是厄米算符）即得 PMQ = 0\n",
    "$$\n",
    "所以$M = PMP + QMQ$, 接下来由于$Q$和$M$都是厄米的, 显然$QMQ$也是厄米的，根据我们的假设M是n维的厄米矩阵，QMQ是n-1维的厄米矩阵可以对角化。由于PMP已经是对角化的，则M = PMP + QMQ可以对角化。"
   ]
  },
  {
   "cell_type": "markdown",
   "id": "b0b08b1d",
   "metadata": {},
   "source": [
    "#### E.2.22\n",
    "因为A为厄米算子，它的特征值都为实数，设 $v_{1}$, $v_{2}$为A的两个特征值，它对应的特征向量分别为$\\ket{v_1}$, $\\ket{v_2}$, 则有：\n",
    "\n",
    "$$\n",
    "(v_1 - v_2) (\\ket{v_1}, \\ket{v_2}) = v_1 (\\ket{v_1}, \\ket{v_2}) - v_2 (\\ket{v_1}, \\ket{v_2})\\\\\n",
    "= (v_1^*\\ket{v_1}, \\ket{v_2}) - (\\ket{v_1}, v_2\\ket{v_2}) \\\\\n",
    "= (v_1\\ket{v_1}, \\ket{v_2}) - (\\ket{v_1}, v_2\\ket{v_2}) \\\\\n",
    "= (A\\ket{v_1}, \\ket{v_2}) - (\\ket{v_1}, A\\ket{v_2}) \\\\\n",
    "= (A\\ket{v_1}, \\ket{v_2}) - (A^\\dagger\\ket{v_1}, \\ket{v_2})\\\\\n",
    "= (A\\ket{v_1}, \\ket{v_2}) - (A\\ket{v_1}, \\ket{v_2}) \\\\\n",
    "= 0\n",
    "$$\n",
    "因为$v_1 - v_2 \\neq 0$, 所以必然有$(\\ket{v_1}, \\ket{v_2}) = 0$, 即特征向量正交。"
   ]
  },
  {
   "cell_type": "markdown",
   "id": "db5ae728",
   "metadata": {},
   "source": [
    "#### E.2.23\n",
    "\n",
    "在习题E.2.16中我们证明了投影算子满足$P^2 = P$, 设其任意本征值为$\\lambda$,对应本征向量为$\\ket{v}$, 则有：\n",
    "\n",
    "$$\n",
    "(P^2 - P)\\ket{v} = 0\\\\\n",
    "\\Leftrightarrow\n",
    "(\\lambda^2 - \\lambda)\\ket{v} = 0\\\\\n",
    "\\Rightarrow\n",
    "\\lambda(\\lambda - 1) = 0\\\\\n",
    "\\Rightarrow\n",
    "\\lambda = 0 或 \\lambda = 1\n",
    "$$"
   ]
  },
  {
   "cell_type": "markdown",
   "id": "9e24aecd",
   "metadata": {},
   "source": [
    "#### E.2.24\n",
    "\n",
    "设算子 $B = \\frac{A + A^\\dagger}{2}, C=\\frac{A - A^\\dagger}{2i}$, 易得$B$和$C$都是厄米算子，且$A = B + iC$;\n",
    "\n",
    "$$\n",
    "则若A是正算子，则有对于任意向量 \\ket{v} 都有 (\\ket{v}, A\\ket{v}) 是非负实数\\\\\n",
    "\\Leftrightarrow\n",
    "(\\ket{v}, (B+iC)\\ket{v}) = 非负实数\\\\\n",
    "\\Leftrightarrow\n",
    "(\\ket{v}, B\\ket{v}) + i(\\ket{v}, C\\ket{v}) = 非负实数\\\\\n",
    "首先因为内积满足(\\ket{v}, \\ket{w}) = (\\ket{w}, \\ket{v})^*, 则（\\ket{v}, \\ket{v}）必然为一个实数，且按照定义大于等于0；\\\\\n",
    "有由于B为厄米算子，(\\ket{v}, B\\ket{v}) = (B\\ket{v}, \\ket{v}) = (B\\ket{v}, \\ket{v})^*是一个实数；对于（\\ket{v}, C\\ket{v}）也同理为实数\\\\\n",
    "故要满足(\\ket{v}, (B+iC)\\ket{v}) = 非负实数, 必须C = 0, 即A = B为厄米算子\n",
    "$$"
   ]
  },
  {
   "cell_type": "markdown",
   "id": "08549285",
   "metadata": {},
   "source": [
    "#### E.2.25\n",
    "\n",
    "$$\n",
    "(\\ket{v}, A^\\dagger A\\ket{v}) = (A\\ket{v}, A\\ket{v}) \\geq 0\n",
    "$$"
   ]
  },
  {
   "cell_type": "markdown",
   "id": "7179b948",
   "metadata": {},
   "source": [
    "#### E.2.26\n",
    "\n",
    "$$\n",
    "\\ket{\\psi} = (\\ket{0} + \\ket{1})/\\sqrt{2}\\\\\n",
    "\\ket{\\psi} ^ {\\otimes 2} = (\\ket{00} + \\ket{01} + \\ket{10} + \\ket{11})/2\\\\\n",
    "\\ket{\\psi} ^ {\\otimes 3} = (\\ket{000} + \\ket{001} + \\ket{010} + \\ket{011} + \\ket{100} + \\ket{101} + \\ket{110} + \\ket{111})/2\\sqrt{2}\n",
    "$$"
   ]
  },
  {
   "cell_type": "markdown",
   "id": "2511c089",
   "metadata": {},
   "source": [
    "#### E.2.27\n",
    "\n",
    "$$\n",
    "X \\otimes Z = \n",
    "\\begin{bmatrix}\n",
    "0 \\cdot Z & 1 \\cdot Z\\\\\n",
    "1 \\cdot Z & 0 \\cdot Z\n",
    "\\end{bmatrix}\n",
    "=\n",
    "\\begin{bmatrix}\n",
    "0 & 0 & 1 & 0\\\\\n",
    "0 & 0 & 0 & -1\\\\\n",
    "1 & 0 & 0 & 0\\\\\n",
    "0 & -1 & 0 & 0\n",
    "\\end{bmatrix}\n",
    "$$\n",
    "\n",
    "$$\n",
    "I \\otimes X = \n",
    "\\begin{bmatrix}\n",
    "1 \\cdot X & 0 \\cdot X\\\\\n",
    "0 \\cdot X & 1 \\cdot X\n",
    "\\end{bmatrix}\n",
    "=\n",
    "\\begin{bmatrix}\n",
    "0 & 1 & 0 & 0\\\\\n",
    "1 & 0 & 0 & 0\\\\\n",
    "0 & 0 & 0 & 1\\\\\n",
    "0 & 0 & 1 & 0\n",
    "\\end{bmatrix}\n",
    "$$\n",
    "\n",
    "$$\n",
    "X \\otimes I = \n",
    "\\begin{bmatrix}\n",
    "0 \\cdot I & 1 \\cdot I\\\\\n",
    "1 \\cdot I & 0 \\cdot I\n",
    "\\end{bmatrix}\n",
    "=\n",
    "\\begin{bmatrix}\n",
    "0 & 0 & 1 & 0\\\\\n",
    "0 & 0 & 0 & 1\\\\\n",
    "1 & 0 & 0 & 0\\\\\n",
    "0 & 1 & 0 & 0\n",
    "\\end{bmatrix}\n",
    "$$\n",
    "张量积不可交换"
   ]
  },
  {
   "cell_type": "markdown",
   "id": "3a14a5e0",
   "metadata": {},
   "source": [
    "#### E.2.28\n",
    "根据算子张量积的矩阵表示等于算子分别矩阵表示的克罗内克积:\n",
    "\n",
    "因为$(A_{ij}B_{kl})^* = A_{ij}^* B_{kl}^*$, $(A \\otimes B)^* = A^* \\otimes B^*$显然成立；\n",
    "\n",
    "设$A$是一个 $m \\times n$ 的矩阵，$B$ 是一个 $p \\times q$ 的矩阵，记 $C = A \\otimes B$, 则有:\n",
    "\n",
    "$$\n",
    "C_{rs} = A_{ij}B_{kl}\\\\\n",
    "满足r=(i - 1) \\times p + k, s=(j - 1) \\times q + l\\\\\n",
    "则转置之后，C^T_{rs} = C_{sr} = A_{ji}B_{qp} = A^T_{ij}B^T_{pq}\\\\\n",
    "\\Rightarrow\n",
    "A^T_{ij} = A_{ji}, B^T_{pq} = B_{qp}\\\\\n",
    "\\Rightarrow\n",
    "(A \\otimes B)^T = A^T \\otimes B^T\n",
    "$$\n",
    "\n",
    "因为以上已经证明了转置、复共轭关于张量积具有“分配性”，故：\n",
    "\n",
    "$$\n",
    "(A \\otimes B)^\\dagger = ((A \\otimes B)^{*})^T\n",
    "\n",
    "=(A^* \\otimes B^*)^T\n",
    "\n",
    "=(A^*)^T \\otimes (B^*)^T\n",
    "\n",
    "=A^\\dagger \\otimes B^\\dagger\n",
    "$$"
   ]
  },
  {
   "cell_type": "markdown",
   "id": "1d4d7f02",
   "metadata": {},
   "source": [
    "#### E.2.29\n",
    "设$U_1$和$U_2$为两个酉算子,分别作用在两个向量空间的向量$\\ket{v}$和$\\ket{w}$，则：\n",
    "\n",
    "$$\n",
    "(U_1 \\otimes U_2)^\\dagger (U_1 \\otimes U_2) (\\ket{v} \\otimes \\ket{w})\\\\\n",
    "= (U_1^\\dagger \\otimes U_2^\\dagger)(U_1 \\ket{v} \\otimes U_2 \\ket{w})\\\\\n",
    "= U_1^\\dagger U_1 \\ket{v} \\otimes U_2^\\dagger U_2 \\ket{w}\\\\\n",
    "= I \\ket{v} \\otimes I \\ket{w}\\\\\n",
    "= \\ket{v} \\otimes \\ket{w}\\\\\n",
    "\\Rightarrow\n",
    "(U_1 \\otimes U_2)^\\dagger (U_1 \\otimes U_2) = I \\otimes I\\\\\n",
    "即两个酉算子的张量积是酉的 \n",
    "$$"
   ]
  },
  {
   "cell_type": "markdown",
   "id": "d7ee974a",
   "metadata": {},
   "source": [
    "#### E.2.30\n",
    "设$A_1$和$A_2$为两个厄米算子，$(A_1 \\otimes A_2)^\\dagger = A_1^\\dagger \\otimes A_2^\\dagger = A_1 \\otimes A_2$，其张量积也是厄米的。"
   ]
  },
  {
   "cell_type": "markdown",
   "id": "e86ada29",
   "metadata": {},
   "source": [
    "#### E.2.31\n",
    "设$A_1$和$A_2$为两个正算子，满足 $(\\ket{v}, A_1\\ket{v}) \\geq 0$ 和 $(\\ket{w}, A_2\\ket{w}) \\geq 0$ 则：\n",
    "\n",
    "$$\n",
    "(\\ket{v}\\otimes \\ket{w}, (A_1\\otimes A_2)(\\ket{v} \\otimes \\ket{w}))\\\\\n",
    "= (\\ket{v}\\otimes \\ket{w}, A_1\\ket{v} \\otimes A_2\\ket{w})\\\\\n",
    "= (\\ket{v}, A_1\\ket{v}) \\cdot (\\ket{w}, A_2\\ket{w}) \\geq 0\n",
    "$$"
   ]
  },
  {
   "cell_type": "markdown",
   "id": "2e987d28",
   "metadata": {},
   "source": [
    "#### E.2.32\n",
    "设$P$和$Q$是投影算子，则其张量积满足：$(P \\otimes Q)^2 = (P^2 \\otimes Q^2) = P \\otimes Q$,也是投影算子"
   ]
  },
  {
   "cell_type": "markdown",
   "id": "013e819f",
   "metadata": {},
   "source": [
    "#### E.2.33\n",
    "易得 $\\ket{u}\\bra{v} \\otimes \\ket{\\phi}\\bra{\\psi}$ = $\\ket{u, \\phi}\\bra{v, \\psi}$\n",
    "\n",
    "容易验证，H即为n=1时的Hadamard门的形式：$H^{\\otimes n} = \\frac{1}{\\sqrt{2^n}}\\sum_{x, y \\in \\{0, 1\\}^n}(-1)^{x\\cdot y}\\ket{x}\\bra{y}$\n",
    "(此处x和y的点乘视作向量点乘，向量的每一个分量都是0或1，例：若$\\ket{x}=\\ket{10}$, $\\ket{y}=\\ket{01}$, $x\\cdot y = 1\\cdot 0 + 0\\cdot 1$)\n",
    "\n",
    "假设对于 $n=i-1, i \\geq 2$ 时的Hadamard门可以写成$H^{\\otimes i-1} = \\frac{1}{\\sqrt{2^{i-1}}}\\sum_{x, y \\in \\{0, 1\\}^{i-1}}(-1)^{x\\cdot y}\\ket{x}\\bra{y}$, 则当 $n = i$时：\n",
    "\n",
    "$$\n",
    "H^{\\otimes i} = H^{\\otimes i-1} \\otimes H\\\\\n",
    "= (\\frac{1}{\\sqrt{2^{i-1}}}\\sum_{x, y \\in \\{0, 1\\}^{i-1}}(-1)^{x\\cdot y}\\ket{x}\\bra{y}) \\otimes \n",
    "(\\frac{1}{\\sqrt{2}}[(\\ket{0}+\\ket{1})\\bra{0} + (\\ket{0}-\\ket{1})\\bra{1}])\\\\\n",
    "= \\frac{1}{\\sqrt{2^i}}(\n",
    "\\sum_{x, y \\in \\{0, 1\\}^{i-1}}(-1)^{x\\cdot y + 0*0}\\ket{x, 0}\\bra{y, 0}\n",
    "+\n",
    "\\sum_{x, y \\in \\{0, 1\\}^{i-1}}(-1)^{x\\cdot y + 1*0}\\ket{x, 1}\\bra{y, 0}\n",
    "+\\\\\n",
    "\\sum_{x, y \\in \\{0, 1\\}^{i-1}}(-1)^{x\\cdot y + 0*1}\\ket{x, 0}\\bra{y, 1}\n",
    "+\n",
    "\\sum_{x, y \\in \\{0, 1\\}^{i-1}}(-1)^{x\\cdot y + 1*1}\\ket{x, 1}\\bra{y, 1}\n",
    ")\\\\\n",
    "= \\frac{1}{\\sqrt{2^i}}\\sum_{x, y \\in \\{0, 1\\}^i}(-1)^{x\\cdot y}\\ket{x}\\bra{y}\n",
    "$$\n",
    "即$H^{\\otimes n}$表达式对任意n都成立。\n",
    "\n",
    "$$\n",
    "H^{\\otimes 2} = \\frac{1}{2}\n",
    "\\begin{bmatrix}\n",
    "1 & 1 & 1 & 1\\\\\n",
    "1 & -1 & 1 & -1\\\\\n",
    "1 & 1 & -1 & -1\\\\\n",
    "1 & -1 & -1 & 1\\\\\n",
    "\\end{bmatrix}\n",
    "$$"
   ]
  },
  {
   "cell_type": "markdown",
   "id": "f93128e5",
   "metadata": {},
   "source": [
    "#### E.2.34\n",
    "对于矩阵 $ M = \\begin{bmatrix} 4 & 3\\\\3 & 4\\end{bmatrix}$, 易得其特征值和对应的特征向量为：$v_1 = 1, \\ket{v_1} = (1, -1)/\\sqrt{2}$; $v_2=7, \\ket{v_2} = (1, 1)/\\sqrt{2}$.\n",
    "\n",
    "则根据算子函数的定义：$\\sqrt{M} = \\sqrt{v_1}\\ket{v_1}\\bra{v_1} + \\sqrt{v_2}\\ket{v_2}\\bra{v_2} = \\frac{1}{2}\\begin{bmatrix} 1+\\sqrt{7} & -1+\\sqrt{7} \\\\ -1 + \\sqrt{7} & 1+\\sqrt{7} \\end{bmatrix}$\n",
    "\n",
    "$\\log(M) = \\log{v_1}\\ket{v_1}\\bra{v_1} + \\log{v_2}\\ket{v_2}\\bra{v_2} = \\frac{\\log 7}{2} \\begin{bmatrix} 1 & 1 \\\\ 1 & 1 \\end{bmatrix}$"
   ]
  },
  {
   "cell_type": "markdown",
   "id": "d93cbdff",
   "metadata": {},
   "source": [
    "#### E.2.35\n",
    "<!-- 泡利$\\sigma_1, \\sigma_2, \\sigma_3$矩阵特征值都为1或-1，对应的特征向量分别记做 $\\ket{u_{j}}$ 和 $\\ket{w_j}$, j=1,2,3, 详见E.2.11. 则有\n",
    "$\\sigma_j = \\ket{u_j}\\bra{u_j} - \\ket{w_j}\\bra{w_j}$; -->\n",
    "\n",
    "通过对泡利矩阵$\\sigma_1, \\sigma_2, \\sigma_3$的直接计算可得：$\\sigma_{i}\\sigma_{j} = I, \\text{for i = j}$; $\\sigma_{i}\\sigma_{j} = -\\sigma_{j}\\sigma_{i}, \\text{for}~i \\neq j$; 故有：\n",
    "\n",
    "$(\\vec{v}\\cdot\\vec{\\sigma})^2 = \\sum_{i,j=1}^3 v_i v_j \\sigma_i \\sigma_j = \\sum_{i=1}^3 v_i^2 I + \\sum_{i \\neq j}(v_iv_j-v_jv_i)\\sigma_{i}\\sigma_{j} = I$ (因为$\\vec{v}$为单位向量)\n",
    "\n",
    "根据指数、三角函数的泰勒展开：$\\exp{(x)} = \\sum_{0}^\\infty \\frac{x^n}{n!}, \\sin{(x)}=\\sum_{0}^\\infty (-1)^n \\frac{x^{2n+1}}{(2n+1)!}, \\cos{(x)}=\\sum_{0}^\\infty\\frac{x^{2n}}{(2n)!}$\n",
    "\n",
    "$\\exp{(i\\theta\\vec{v}\\cdot\\vec{\\sigma})}=\\sum_{n=0}^\\infty\\frac{(i\\theta\\vec{v}\\cdot\\vec{\\sigma})^n}{n!} = \\sum_{n=0}^\\infty\\frac{(i\\theta\\vec{v}\\cdot\\vec{\\sigma})^{2n}}{(2n)!} + \\sum_{n=0}^\\infty\\frac{(i\\theta\\vec{v}\\cdot\\vec{\\sigma})^{2n+1}}{(2n+1)!} \n",
    "= \\sum_{n=0}^\\infty\\frac{(-1)^n\\theta^{2n}}{(2n)!}I + \\sum_{n=0}^\\infty\\frac{(-1)^n\\theta^{2n+1}}{(2n+1)!}\\vec{v}\\cdot{\\vec{\\sigma}} = \\cos{(\\theta)}I + i\\sin{(\\theta)}\\vec{v}\\cdot\\vec{\\sigma}$\n",
    "\n"
   ]
  },
  {
   "cell_type": "markdown",
   "id": "f433f472",
   "metadata": {},
   "source": [
    "#### E.2.36\n",
    "直接计算即可"
   ]
  },
  {
   "cell_type": "markdown",
   "id": "eab1557c",
   "metadata": {},
   "source": [
    "#### E.2.37\n",
    "$\\mathrm{tr}(AB)=\\sum_{i,j}(A_{ij}B_{ji}) = \\sum_{i,j}(B_{ij}A_{ji})=\\mathrm{tr}(BA)$"
   ]
  },
  {
   "cell_type": "markdown",
   "id": "ee2675a6",
   "metadata": {},
   "source": [
    "#### E.2.38\n",
    "$\\mathrm{tr}(A+B)=\\sum_{i}(A_{ii} + B_{ii}) =\\sum_{i}A_{ii} + \\sum_{i}B_{ii}=\\mathrm{tr}(A) + \\mathrm{tr}(B)$\n",
    "\n",
    "$\\mathrm{tr}(zA) = \\sum_{i}zA_{ii} = z\\sum_{i}A_{ii}=z~\\mathrm{tr}(A)$"
   ]
  },
  {
   "cell_type": "markdown",
   "id": "80dab182",
   "metadata": {},
   "source": [
    "#### E.2.39\n",
    "1. 证明函数从$L_V \\times L_V \\rightarrow \\mathbb{C}$ 的函数（. , .）满足内积的三条定义：\n",
    "\n",
    "$(A, \\sum_i \\lambda_i B_i) = \\mathrm{tr}(A^\\dagger (\\sum_i \\lambda_i B_i)) = \\mathrm{tr}(\\sum_i \\lambda_i A^\\dagger B_i) =  \\sum_i \\lambda_i\\mathrm{tr}( A^\\dagger B_i) = \\sum_i \\lambda_i (A, B_i)$\n",
    "\n",
    "$(A, B) = \\mathrm{tr}(A^\\dagger B) = \\mathrm{tr} (B A^\\dagger) = \\sum_{i, j}B_{ij}A^\\dagger_{ji} = \\sum_{i,j}B_{ij}A_{ij}^* = (\\sum_{i,j}B_{ij}^* A_{ij})^* = (\\sum_{i,j}B_{ji}^\\dagger A_{ij})^* = (B, A)^*$\n",
    "\n",
    "$(A, A) = \\mathrm{tr}(A^\\dagger A) = \\sum_{i,j}A^\\dagger_{ij}A_{ji} = \\sum_{i,j}A_{ji}^*A_{ji} \\geq 0$ 只有$A=0$时等号成立。\n",
    "\n",
    "2. 任选$V$中对一组标准正交基$\\{ \\ket{e_1}, \\ket{e_2}, ... , \\ket{e_d}\\}$, 定义算子 $E_{ij} = \\ket{e_i}\\bra{e_j}$, 由E.2.10得该算子的矩阵表示为只有第i行第k列为1，其他位置都为0，显然 ${E_{ij}}$线性无关且张成整个$d \\times d$ 线性算子空间，故$\\mathrm{dim} L_v = d^2$。\n",
    "\n",
    "3. $D_k = E_{kk}, k=1,...,d$, $S_{ij}=\\frac{E_{ij} + E_{ji}}{\\sqrt{2}}$, $A_{ij} = \\frac{i(E_{ij} - E_{ji})}{\\sqrt{2}}$ ($i<j$), 构成$L_V$上的厄米矩阵标准正交基，验证如下：\n",
    "\n",
    "首先易得$D_k, S_{ij}, A_{ij}$都为厄米矩阵，然后根据$E_{ij}E_{kl} = E_{il} \\delta_{jk}$和 $(E_{ij}, E_{kl}) = \\delta_{ik}\\delta_{jl}$ 得：\n",
    "$$\n",
    "(D_i, D_j) = \\delta_{ij},\\\\\n",
    "(S_{ij}, S_{kl}) = \\delta_{ik}\\delta_{jl}, (规定i<j, k<l), \\\\\n",
    "(A_{ij}, A_{kl}) = \\delta_{ik}\\delta_{jl}, (规定i<j, k<l)\n",
    "$$\n",
    "同时容易验证交叉项为0，且$\\{D_k, S_{ij}, A_{ij}\\}$共有$d + \\frac{d(d-1)}{2} + \\frac{d(d-1)}{2} = d^2$个"
   ]
  },
  {
   "cell_type": "markdown",
   "id": "1be49a20",
   "metadata": {},
   "source": [
    "#### E.2.40\n",
    "$\n",
    "[X, Y] = \\begin{bmatrix} 0 & 1 \\\\ 1 & 0\\end{bmatrix} \\begin{bmatrix} 0 & -i \\\\ i & 0\\end{bmatrix} - \\begin{bmatrix} 0 & -i \\\\ i & 0\\end{bmatrix} \\begin{bmatrix} 0 & 1 \\\\ 1 & 0\\end{bmatrix}\\\\\n",
    "= 2i \\begin{bmatrix} 1& 0\\\\ 0& -1\\end{bmatrix}\\\\\n",
    "= 2i Z\n",
    "$\n",
    "\n",
    "$\n",
    "[Y, Z] = \\begin{bmatrix} 0& -i\\\\ i& 0\\end{bmatrix}\\begin{bmatrix} 1& 0\\\\ 0& -1\\end{bmatrix} - \\begin{bmatrix} 1& 0\\\\ 0& -1\\end{bmatrix}\\begin{bmatrix} 0& -i\\\\ i& 0\\end{bmatrix} \\\\\n",
    "= 2i \\begin{bmatrix} 0& 1\\\\ 1& 0\\end{bmatrix}\\\\\n",
    "= 2i X\n",
    "$\n",
    "\n",
    "$\n",
    "[Z, X] = \\begin{bmatrix} 1& 0\\\\ 0& -1\\end{bmatrix} \\begin{bmatrix} 0& 1\\\\ 1& 0\\end{bmatrix} - \\begin{bmatrix} 0& 1\\\\ 1& 0\\end{bmatrix}\\begin{bmatrix} 1& 0\\\\ 0& -1\\end{bmatrix}\\\\\n",
    "= 2i  \\begin{bmatrix} 0 & -i\\\\ i & 0\\end{bmatrix}\\\\\n",
    "= 2iY\n",
    "$"
   ]
  },
  {
   "cell_type": "markdown",
   "id": "0952aee5",
   "metadata": {},
   "source": [
    "#### E.2.41\n",
    "计算与E.2.40类似，容易验证，略"
   ]
  },
  {
   "cell_type": "markdown",
   "id": "f920b9b9",
   "metadata": {},
   "source": [
    "#### E.2.42\n",
    "$\\frac{[A, B] + \\{A, B\\}}{2} = \\frac{AB-BA + AB + BA}{2} = AB$"
   ]
  },
  {
   "cell_type": "markdown",
   "id": "f25543a1",
   "metadata": {},
   "source": [
    "#### E.2.43"
   ]
  },
  {
   "cell_type": "markdown",
   "id": "256258ab",
   "metadata": {},
   "source": [
    "$j = k$时$\\sigma_j\\sigma_k = I$显然成立\n",
    "\n",
    "$j \\neq k$时, $\\sigma_j\\sigma_k = \\frac{[\\sigma_j, \\sigma_k] + \\{\\sigma_j, \\sigma_k\\}}{2} = \\frac{[\\sigma_j, \\sigma_k]}{2} = i\\sum_{l=1}^3\\epsilon_{jkl}\\sigma_l$"
   ]
  },
  {
   "cell_type": "markdown",
   "id": "ac0ac384",
   "metadata": {},
   "source": [
    "#### E.2.44\n",
    "$AB = \\frac{[A, B] + \\{A, B\\}}{2} = 0\\\\\n",
    "\\Rightarrow A^{-1}AB = A^{-1} 0\\\\\n",
    "\\Rightarrow B = 0\n",
    "$"
   ]
  },
  {
   "cell_type": "markdown",
   "id": "09f1e13e",
   "metadata": {},
   "source": [
    "#### E.2.45\n",
    "$[A, B]^\\dagger = (AB - BA)^\\dagger = B^\\dagger A^\\dagger - A^\\dagger B^\\dagger = [B^\\dagger, A^\\dagger]$"
   ]
  },
  {
   "cell_type": "markdown",
   "id": "d9e2dd21",
   "metadata": {},
   "source": [
    "#### E.2.46\n",
    "$[A, B] + [B, A] = AB - BA + BA - AB = 0$"
   ]
  },
  {
   "cell_type": "markdown",
   "id": "e61ed5ff",
   "metadata": {},
   "source": [
    "#### E.2.47\n",
    "$(i[A, B])^\\dagger = -i [A, B]^\\dagger = -i [B^\\dagger, A^\\dagger] = -i [B, A] = i [A, B]$"
   ]
  },
  {
   "cell_type": "markdown",
   "id": "27f557f6",
   "metadata": {},
   "source": [
    "#### E.2.48\n",
    "$P = IP = PI,~(I为酉矩阵)$\n",
    "\n",
    "$U = UI = IU,~(I为正算子且I = \\sqrt{U^\\dagger U})$\n",
    "\n",
    "$H = UJ, 其中按照定义J = \\sqrt{H^\\dagger H} = \\sqrt{H^2}， U = \\sum_{i}\\ket{i}\\bra{i}sgn(\\lambda^\\prime_i),其中\\lambda^\\prime_i为H的特征值$"
   ]
  },
  {
   "cell_type": "markdown",
   "id": "f2f0e6a0",
   "metadata": {},
   "source": [
    "#### E.2.49\n",
    "\n",
    "正规矩阵$A$可以在一组标准正交基 $\\{\\ket{i}\\}$ 下对角化：$A = \\sum_{i} \\lambda_{i} \\ket{i}\\bra{i}$, 其极式分解的正算子 $J = \\sqrt{A^\\dagger A} = \\sqrt{\\sum_{i} \\lambda_{i}^*\\lambda_i \\ket{i}\\bra{i}} = \\sum_{i}|\\lambda_{i}|\\ket{i}\\bra{i}$ \n",
    "($J$的谱分解与$A$共用一组基)。\n",
    "\n",
    "则对于 $|\\lambda_{i} \\neq 0|$的 $i$ 定义 $\\ket{\\psi_i} \\equiv A\\ket{i} = \\lambda_{i} \\ket{i}$, $\\ket{e_i} \\equiv \\ket{\\psi_i} / |\\lambda_i| = \\mathrm{sgn}(\\lambda_i) \\ket{i}$, 定义酉算子 $U \\equiv \\sum_{i}\\ket{e_i}\\bra{i} $,则$A$的极式分解的外积表示为：\n",
    "\n",
    "$A = \\sum_{i, \\lambda_i \\neq 0}sgn(\\lambda_{i})|\\lambda_{i}|\\ket{i}\\bra{i} + 0$"
   ]
  },
  {
   "cell_type": "markdown",
   "id": "ccf475b9",
   "metadata": {},
   "source": [
    "#### E.2.50\n",
    "$A = \\begin{bmatrix} 1& 0\\\\ 1& 1\\end{bmatrix}$, 记 $J^2 = A^\\dagger A = \\begin{bmatrix} 2 & 1 \\\\ 1 & 1\\end{bmatrix}$, $J^2$为正规矩阵，可以对角化, 其特征值和对应的特征向量为：$z_1 = \\frac{3+\\sqrt{5}}{2}, \\ket{v_1} = (\\frac{1+\\sqrt{5}}{2}, 1)/\\sqrt{\\frac{5+\\sqrt{5}}{2}}$; $z_2 = \\frac{3-\\sqrt{5}}{2}, \\ket{v_2} = (1, -\\frac{1+\\sqrt{5}}{2})/\\sqrt{\\frac{5+\\sqrt{5}}{2}}$.\n",
    "\n",
    "显然$\\ket{v_1},\\ket{v_2}$正交且归一，构成一组标准正交基使得$J^2$可以对角化为：$J^2 = \\sum_{i=1}^2 z_i \\ket{v_i}\\bra{v_i}$, 则$J = \\sqrt{A^\\dagger A} = \\sum_{i=1}^2 \\lambda_i\\ket{v_i}\\bra{v_i},~(\\lambda_i=\\sqrt{z_i})$. \n",
    "\n",
    "定义$\\ket{e_i} \\equiv A\\ket{v_i}/\\lambda_i$, 则$U = \\sum_{i=1}^2 \\ket{e_i}\\bra{v_i}$为酉算子满足$A = UJ$"
   ]
  },
  {
   "cell_type": "code",
   "execution_count": 59,
   "id": "46e9c42c",
   "metadata": {},
   "outputs": [
    {
     "name": "stdout",
     "output_type": "stream",
     "text": [
      "J= Matrix([[1.34164078649987, 0.447213595499958], [0.447213595499958, 0.894427190999916]])\n",
      "U= Matrix([[0.894427190999916, -0.447213595499958], [0.447213595499958, 0.894427190999916]])\n",
      "UJ - A= Matrix([[0.e-125, 0.e-125], [0.e-125, -0.e-125]])\n",
      "KU - A= Matrix([[-0.e-125, 0.e-125], [0.e-125, 0.e-125]])\n"
     ]
    }
   ],
   "source": [
    "##使用sympy来进行繁琐的矩阵计算和结果验证\n",
    "import sympy as sp\n",
    "sp.init_printing(use_latex=True)\n",
    "\n",
    "A = sp.Matrix([[1, 0], [1, 1]])\n",
    "\n",
    "z1, z2 = (3 + sp.sqrt(5))/2, (3 - sp.sqrt(5))/2\n",
    "v1 = sp.Matrix([[(1+sp.sqrt(5))/2], [1]]) / sp.sqrt((5 + sp.sqrt(5))/2)\n",
    "v2 = sp.Matrix([[1], [-(1+sp.sqrt(5))/2]]) / sp.sqrt((5 + sp.sqrt(5))/2)\n",
    "\n",
    "l1, l2 = sp.sqrt(z1), sp.sqrt(z2)\n",
    "J = l1*v1*v1.T + l2*v2*v2.T\n",
    "print(\"J=\", J.applyfunc(lambda x: x.evalf()))\n",
    "\n",
    "e1, e2 = A * v1 / l1, A * v2 / l2\n",
    "U = e1 * v1.H + e2 * v2.H\n",
    "print(\"U=\", U.applyfunc(lambda x: x.evalf()))\n",
    "\n",
    "K = U * J * U.H\n",
    "print(\"UJ - A=\", (U*J - A).applyfunc(lambda x: x.evalf()))\n",
    "print(\"KU - A=\", (K*U - A).applyfunc(lambda x: x.evalf()))\n"
   ]
  },
  {
   "cell_type": "markdown",
   "id": "75767088",
   "metadata": {},
   "source": [
    "#### E.2.51\n",
    "$H^\\dagger H = H H^\\dagger = I$"
   ]
  },
  {
   "cell_type": "markdown",
   "id": "d897d61e",
   "metadata": {},
   "source": [
    "#### E.2.52\n",
    "直接计算易得，或$H^2 = H H^\\dagger = I$"
   ]
  },
  {
   "cell_type": "markdown",
   "id": "f54c4251",
   "metadata": {},
   "source": [
    "#### E.2.53\n",
    "H的两个特征值和其对应的特征向量分别为：\n",
    "\n",
    "$\\lambda_1 = 1, \\ket{v_1} = (1+\\sqrt{2}, 1)/\\sqrt{4+2\\sqrt{2}}$\n",
    "\n",
    "$\\lambda_2=-1, \\ket{v_2} = (1-\\sqrt{2}, 1)/\\sqrt{4-2\\sqrt{2}}$"
   ]
  },
  {
   "cell_type": "markdown",
   "id": "50c38af2",
   "metadata": {},
   "source": [
    "#### E.2.54\n",
    "因为 $A$,$B$对易 $[A, B] = AB - BA = 0$\n",
    "\n",
    "左式 = $\\exp{(A)}\\exp{(B)}=\\sum_{n=0}^\\infty \\frac{A^n}{n!}\\sum_{m=0}^\\infty \\frac{B^m}{m!} = \\sum_{n=0}^\\infty\\sum_{m=0}^\\infty \\frac{A^n B^m}{n!m!}$\n",
    "\n",
    "右式 = $\\sum_{l=0}^\\infty \\frac{(A+B)^l}{l!} = \\sum_{l=0}^\\infty \\sum_{k=0}^l \\frac{{l \\choose k} A^k B^{l-k}}{l!} = \\sum_{l=0}^\\infty \\sum_{k=0}^l \\frac{A^k B^{l-k}}{k! (l-k)!}$ （二项式展开使用了对易关系）\n",
    "\n",
    "令$l = m+n, k=m$则易得以上两个求和相等（可认为是沿着平行于坐标轴求和和沿着平行于y=-x求和），即$\\exp{(A)}\\exp{(B)} = \\exp{(A+B)}$"
   ]
  },
  {
   "cell_type": "markdown",
   "id": "195b2315",
   "metadata": {},
   "source": [
    "#### E.2.55\n",
    "使用幂级数展开易得 $(\\exp{(A)})^\\dagger = \\exp{(A^\\dagger)}$, 再由$H$为厄米算子得$U(t_1, t_2)^\\dagger = \\exp{[\\frac{iH(t_2-t_1)}{\\hbar}]}$，易得 $[\\frac{-iH(t_2-t_1)}{\\hbar}, \\frac{iH(t_2-t_1)}{\\hbar}]=0$, 根据E.2.54得：\n",
    "\n",
    "$U(t_1, t_2)^\\dagger U(t_1, t_2) = U(t_1, t_2) U(t_1, t_2)^\\dagger = \\exp{(0)} = I$"
   ]
  },
  {
   "cell_type": "markdown",
   "id": "7ca0da30",
   "metadata": {},
   "source": [
    "#### E.2.56\n",
    "根据E.2.18, 酉矩阵可被对角化为 $U = \\sum_{j}e^{i\\theta_j}\\ket{j}\\bra{j}$的形式（$\\theta_j$为某实数）。\n",
    "\n",
    "则有 $K = -i\\log{(U)} = -i \\sum_{j} \\log{(e^{i\\theta_j})} \\ket{j}\\bra{j} = \\sum_{j} \\theta_j \\ket{j}\\bra{j}$ 特征值为实数，厄米算子。"
   ]
  },
  {
   "cell_type": "markdown",
   "id": "da20f1ea",
   "metadata": {},
   "source": [
    "#### E.2.57\n",
    "测量一瞬间前量子系统处于状态 $\\ket{\\psi}$, 则在测量算子 $\\{ L_l \\}$测量后，会以概率 $p(l) = \\bra{\\psi} L_l^\\dagger L_l \\ket{\\psi}$ 得到测量结果$l$，测量后一瞬间系统状态为 $\\ket{\\psi^\\prime} = \\frac{L_l\\ket{\\psi}}{\\sqrt{\\bra{\\psi} L_l^\\dagger L_l \\ket{\\psi}}}$.\n",
    "\n",
    "之后再被测量算子 $\\{M_m\\}$ 测量, 会以概率 $p(m|l) = \\bra{\\psi^\\prime} M_m^\\dagger M_m \\ket{\\psi^\\prime} = \\frac{\\bra{\\psi}(M_m L_l)^\\dagger (M_m L_l)\\ket{\\psi}}{\\bra{\\psi}L^\\dagger L\\ket{\\psi}} = \\frac{\\bra{\\psi}(M_m L_l)^\\dagger (M_m L_l)\\ket{\\psi}}{p(l)}$ 得到测量结果$m$, 测量后一瞬间系统的状态为 $\\ket{\\psi^{\\prime\\prime}} = \\frac{M_m\\ket{\\psi^\\prime}}{\\sqrt{\\bra{\\psi^\\prime} M_m^\\dagger M_m \\ket{\\psi^\\prime}}} = \\frac{M_m L_l \\ket{\\psi}}{\\sqrt{\\bra{\\psi}(M_m L_l)^\\dagger (M_m L_l)\\ket{\\psi}}}$\n",
    "\n",
    "以上结果显然等价于定义为 $N_{lm} \\equiv M_m L_l$ 的测量算子$\\{N_{lm}\\}$进行的测量，测量后得到结果$ml$的概率为$p(ml) = p(m|l)p(l) = \\bra{\\psi} N_{lm}^\\dagger N_{lm}\\ket{\\psi}$, 结果为 $\\frac{N_{lm}\\ket{\\psi}}{\\sqrt{\\bra{\\psi} N_{lm}^\\dagger N_{lm}\\ket{\\psi}}}$"
   ]
  },
  {
   "cell_type": "markdown",
   "id": "69ff56e0",
   "metadata": {},
   "source": [
    "#### E.2.58\n",
    "$\\langle M \\rangle = m, \\Delta(M) = 0$"
   ]
  },
  {
   "cell_type": "markdown",
   "id": "b117874e",
   "metadata": {},
   "source": [
    "#### E.2.59\n",
    "\n",
    "$\\langle X \\rangle = \\bra{0}X\\ket{0} = 0$\n",
    "\n",
    "$\\Delta(X) = \\sqrt{\\langle X^2 \\rangle - \\langle X \\rangle^2} = \\sqrt{\\langle I \\rangle - 0} = 1$"
   ]
  },
  {
   "cell_type": "markdown",
   "id": "1a114e1a",
   "metadata": {},
   "source": [
    "#### E.2.60\n",
    "$\\vec{v}\\cdot\\vec{\\sigma} = \\sum_{i=1}^3 v_i \\sigma_i = \\begin{bmatrix} v_3 & v_1 + i v_2\\\\ v_1 - i v_2 & -v_3\\end{bmatrix}$\n",
    "\n",
    "$\\mathrm{det}(\\vec{v}\\cdot\\vec{\\sigma} - \\lambda I) = 0 \\Rightarrow (\\lambda - v_3)(\\lambda + v_3) - (v_1 + i v_2)(v_1 - i v_2) \\Rightarrow \\lambda^2 = v_1^2 + v_2^2 + v_3^3 = 1 \\Rightarrow \\lambda = \\pm 1$\n",
    "\n",
    "接下来验证算子 $\\vec{v}\\cdot\\vec{\\sigma}$ 的几条重要性质：\n",
    "\n",
    "（1）厄米性：$(\\vec{v}\\cdot\\vec{\\sigma})^\\dagger = \\sum_{i=1}^3 v_i \\sigma_i^\\dagger = \\sum_{i=1}^3 v_i \\sigma_i = \\vec{v}\\cdot\\vec{\\sigma}$\n",
    " \n",
    "(2) 酉性：$(\\vec{v}\\cdot\\vec{\\sigma})^\\dagger (\\vec{v}\\cdot\\vec{\\sigma}) = (\\vec{v}\\cdot\\vec{\\sigma})^2 = \\sum_{i, j = 1}^3 v_i v_j \\sigma_i \\sigma_j$ 代入E.2.43之结论: $\\sigma_j\\sigma_k = \\delta_{jk}I + i \\sum_{l=1}^3\\epsilon_{jkl}\\sigma_l$得：\n",
    "\n",
    "$$\n",
    "(\\vec{v}\\cdot\\vec{\\sigma})^2 = \\sum_{i, j=1}^3 v_i v_j (\\delta_{ij} I + i \\sum_{l=1}^3 \\epsilon_{ijl}\\sigma_l)\\\\\n",
    "= \\sum_{i=1}^3 v_i^2 I + i \\sum_{l=1}^3 \\sum_{i < j} v_i v_j (\\epsilon_{ijl} + \\epsilon_{jil}) \\sigma_l\\\\\n",
    "= I + 0 = I\n",
    "$$\n",
    "\n",
    "从以上两条性质中，也可以自然的看出算子 $\\vec{v}\\cdot\\vec{\\sigma}$ 的特征值为 $\\pm 1$ (酉性保证特征值模长为1， 厄米性保证特征值为实数)。接下来验证该算子到相应本征空间上的投影是 $P_{\\pm} = (I \\pm \\vec{v}\\cdot\\vec{\\sigma})/2$, 即验证 $P_{\\pm}$的厄米性、幂等性、正交性、完备性（确保是正交投影），且分别是$\\pm 1$本征空间上的正交投影算符：\n",
    "\n",
    "(1) 厄米性：$P_{\\pm}^\\dagger = (I \\pm \\vec{v}\\cdot\\vec{\\sigma})^\\dagger / 2 = (I \\pm \\vec{v}\\cdot\\vec{\\sigma})/2 = P_{\\pm}$\n",
    "\n",
    "(2) 幂等性：$P_{\\pm} ^2 = (I \\pm \\vec{v}\\cdot\\vec{\\sigma})^2/4 = (I + (\\vec{v}\\cdot\\vec{\\sigma})^2 \\pm 2\\vec{v}\\cdot\\vec{\\sigma})/4 = (2I \\pm 2\\vec{v}\\cdot\\vec{\\sigma})/4 = P_{\\pm}$\n",
    "\n",
    "(3) 正交性：$P_{+}P_{-} = P_{-}P_{+} = (I + \\vec{v}\\cdot\\vec{\\sigma}) (I - \\vec{v}\\cdot\\vec{\\sigma}) / 4 = (I^2 - (\\vec{v}\\cdot\\vec{\\sigma})^2)/4 = (I - I)/4 = 0$\n",
    "\n",
    "(4) 完备性：$P_{+} + P_{-} = I$\n",
    "\n",
    "(5) 对任意 $\\ket{\\psi}$, 有 $(\\vec{v}\\cdot\\vec{\\sigma})P_{\\pm}\\ket{\\psi} = [(\\vec{v}\\cdot\\vec{\\sigma})P_{\\pm}]\\ket{\\psi} = (\\vec{v}\\cdot\\vec{\\sigma} \\pm I)\\ket{\\psi} = \\pm P_{\\pm} \\ket{\\psi}$, 即$P_{\\pm}$将其投影到$\\pm 1$对应的本征空间"
   ]
  },
  {
   "cell_type": "markdown",
   "id": "38312824",
   "metadata": {},
   "source": [
    "#### E.2.61\n",
    "投影测量 $M = P_{+} + P_{-}$, $\\ket{0}$测量后得到结果 $+1$的概率为 $p(+1) = \\bra{0}P_{+}\\ket{0} = \\bra{0} (\\ket{0} + v_1\\ket{1} + iv_2\\ket{1} + v_3\\ket{0})/2 = (1 + v_3)/2$.\n",
    "\n",
    "得到测量结果$+1$后系统的状态变为 $\\frac{P_{+}\\ket{0}}{\\sqrt{p(+1)}} = \\frac{(1+v_3)\\ket{0}+(v_1+iv_2)\\ket{1}}{\\sqrt{2(1+v_3)}}$"
   ]
  },
  {
   "cell_type": "markdown",
   "id": "54266ca0",
   "metadata": {},
   "source": [
    "#### E.2.62\n",
    "任意测量算子已经是完备的了，接下来只需要证明若其和POVM元一致则满足厄米性、正交性、幂等性：\n",
    "\n",
    "(1)厄米性：根据 $M_m = E_m$ 和 $E_m = M_m^\\dagger M_m \\Rightarrow M_m^\\dagger = E_m^\\dagger = M_m^\\dagger M_m = E_m = M_m$\n",
    "\n",
    "(2)幂等性：由（1）的 $M_m = M_m^\\dagger M_m = M_m^2$\n",
    "\n",
    "(3)正交性：设 $m^\\prime \\neq m$, 根据幂等性和完备性可得：\n",
    "$$\n",
    "M_m = M_m^2 = M_m (I - \\sum_{m^\\prime} M_{m^\\prime})\\\\\n",
    "\\Rightarrow \\sum_{m^\\prime} M_m M_{m^\\prime} = 0\\\\\n",
    "(幂等性) \\Rightarrow \\sum_{m^\\prime} M_m M_{m^\\prime} M_{m^\\prime} = 0\\\\\n",
    "(两边同乘M_m) \\Rightarrow \\sum_{m^\\prime} M_m M_{m^\\prime} M_{m^\\prime} M_m = 0\\\\\n",
    "(厄米性) \\Rightarrow \\sum_{m^\\prime} (M_{m^\\prime} M_m)^\\dagger M_{m^\\prime} M_m = 0\\\\\n",
    "$$ \n",
    "由E.2.25得 $(M_{m^\\prime} M_m)^\\dagger M_{m^\\prime} M_m$ 为正算子，可验证对于任意正算子A和B, 若A+B=0则有A=0和B=0, 验证如下：\n",
    "$$\n",
    "对于任意\\ket{\\psi}, (\\ket{\\psi}, (A+B)\\ket{\\psi}) = 0\\\\\n",
    "\\Leftrightarrow (\\ket{\\psi}, A\\ket{\\psi}) + (\\ket{\\psi}, B\\ket{\\psi}) = 0\\\\\n",
    "再由 (\\ket{\\psi}, A\\ket{\\psi}) \\geq 0, (\\ket{\\psi}, B\\ket{\\psi}) \\geq 0 \\Rightarrow   (\\ket{\\psi}, A\\ket{\\psi}) = 0, (\\ket{\\psi}, B\\ket{\\psi}) = 0\\\\\n",
    "上述式子对任意\\ket{\\psi}成立，故有A=B=0\\\\\n",
    "综上，有 M_m M_{m^\\prime} M_{m^\\prime} M_m = 0\\\\\n",
    "(幂等性)\\Rightarrow M_m M_{m^\\prime} M_m = 0\\\\\n",
    "(M_m \\neq 0)\\Rightarrow M_m M_{m^\\prime} = 0\n",
    "$$"
   ]
  },
  {
   "cell_type": "markdown",
   "id": "ea3fde01",
   "metadata": {},
   "source": [
    "#### E.2.63\n",
    "\n",
    "$E_m$根据定义是厄米算子，有谱分解$E_m = \\sum_i \\lambda_i \\ket{i}\\bra{i}$, 其中 $\\lambda_i \\geq 0$, 则 $\\sqrt{E_m} = \\sum_i \\sqrt{\\lambda_i} \\ket{i}\\bra{i}$, 其在$\\lambda_j > 0$对应的特征向量张成的子空间(支撑子空间)内有逆 $(\\sqrt{E_m})^{-1} = \\sum_i \\frac{1}{\\sqrt{\\lambda_i}}\\ket{i}\\bra{i}$，则在支撑子空间可以构造算子 $U=M_m (\\sqrt{E_m})^{-1}$, 同时有 $U^\\dagger U = (\\sqrt{E_m})^{-1} M_m^\\dagger M_m (\\sqrt{E_m})^{-1} = (\\sqrt{E_m})^{-1} E_m (\\sqrt{E_m})^{-1} = I$ 故U为支撑子空间内的酉矩阵。\n",
    "\n",
    "全空间又如何？如何延拓？"
   ]
  },
  {
   "cell_type": "markdown",
   "id": "76d6e00a",
   "metadata": {},
   "source": [
    "#### E.2.64\n",
    "\n",
    "根据题意需要构造算子 $E_i = \\alpha_i \\ket{\\phi_i}\\bra{\\phi_i}, \\alpha_i > 0, i \\in \\{1, 2, ..., m\\}$, 其中 $\\ket{\\phi_i}$ 满足 $\\braket{\\phi_i|\\psi_j} = \\delta_{ij}$, 经验证得 $\\bra{\\psi_i}E_i\\ket{\\psi_i} = \\alpha > 0$, 接下来给出构造 $\\ket{\\phi_i}$的方法：\n",
    "\n",
    "$$\n",
    "因为\\{\\ket{\\psi_i}\\}线性无关，张成一个向量空间，故可写出以其为基的算子A的矩阵表示：\\ket{\\phi_i} = \\sum_{i} A_{ij}\\ket{\\psi_i}.\\\\\n",
    "带入\\braket{\\phi_i|\\psi_j} = \\delta_{ij}得\\\\\n",
    "\\sum_i A_{ij}^* \\braket{\\psi_i|\\psi_j} = \\delta_{ij}\\\\\n",
    "\\Leftrightarrow \\sum_i A_{ij}^* G_{ji}^* = \\delta_{ij}, 其中G为Gram矩阵，G_{ij} = \\braket{\\psi_i|\\psi_j}\\\\\n",
    "\\Leftrightarrow \\sum_i G_{ji}A_{ij} = \\delta_{ji}\\\\\n",
    "\\Leftrightarrow GA = I\n",
    "$$\n",
    "\n",
    "如果G为可逆矩阵的话我们有 $A=G^{-1}$,就显式的构造出了 $\\ket{\\phi_i}$，接下来我们可以根据 $\\{\\ket{\\psi_i}\\}$ 的线性无关性证明这一点：\n",
    "\n",
    "$$\n",
    "设\\ket{c} \\neq 0 位任意系数向量，则有\\bra{c}G\\ket{c} = \\sum_{ij} c_i^* c_j \\braket{\\psi_i|\\psi_j} = |\\sum_i c_i \\ket{\\psi_i}| \\geq 0\\\\\n",
    "由线性无关性得\\sum_i c_i \\ket{\\psi_i} \\neq 0, 故 \\bra{c}G\\ket{c} > 0, 则G为正定矩阵，必定可逆\n",
    "$$\n",
    "\n",
    "最后我们还需要使得 $E_{m+1} = I - \\sum_{i=1}^m E_i$ 为正算子, 即对任意 $\\ket{\\psi_j}$有 $\\bra{\\psi_j} E_{m+1} \\ket{\\psi_j}$ 成立\n",
    "$\\Rightarrow \\braket{\\psi_j|\\psi_j} - \\alpha_j > 0$, 故当 $\\alpha_j < \\braket{\\psi_j|\\psi_j}$ 时可以确保 $E_{m+1}$ 也为正算子。"
   ]
  },
  {
   "cell_type": "markdown",
   "id": "0f33e3cd",
   "metadata": {},
   "source": [
    "#### E.2.65\n",
    "\n",
    "在 ${\\ket{+}, \\ket{-}}$ 基下， $(\\ket{0} + \\ket{1})/\\sqrt{2} = \\ket{+} + 0\\ket{-}$, $(\\ket{0} - \\ket{1})/\\sqrt{2} = 0\\ket{0} + 1\\ket{1}$, 两状态就不是只相差一个相对相位的。"
   ]
  },
  {
   "cell_type": "markdown",
   "id": "5036b13f",
   "metadata": {},
   "source": [
    "#### E.2.66\n",
    "记 $\\ket{\\beta_{00}} = \\ket{\\psi_1}\\otimes\\ket{\\psi_2}$, 其中 $\\ket{\\psi_1} = \\ket{\\psi_2} = \\frac{\\ket{0}+\\ket{1}}{\\sqrt{2}}$.\n",
    "\n",
    "则均值 $\\bra{\\beta_{00}}X_1Z_1\\ket{\\beta_{00}} = (\\bra{\\psi_1}\\otimes\\bra{\\psi_2})(X_1\\otimes Z_2)(\\ket{\\psi_1}\\otimes\\ket{\\psi_2}) = (\\bra{\\psi_1}\\otimes\\bra{\\psi_2})(X_1\\ket{\\psi_1}\\otimes Z_2\\ket{\\psi_2}) = (\\bra{\\psi_1}\\otimes\\bra{\\psi_2})(\\ket{+}\\otimes\\ket{-}) = \\braket{\\psi_1|+}\\braket{\\psi_2|-} = \\braket{+|+}\\braket{+|-} = 0$"
   ]
  },
  {
   "cell_type": "markdown",
   "id": "92860eb6",
   "metadata": {},
   "source": [
    "#### E.2.67\n",
    "\n",
    "设 $V$ 为d维向量空间，$W$ 为其k维子空间且由一组正交归一基 $\\{\\ket{e_i}\\}, i = 1,...,k$ 张成。则 $W$ 的正交补 $W^\\perp$ 满足 $W \\oplus W^\\perp = V$, 设其由基 $\\{\\ket{f_i}\\}, i = 1, ..., d-k$ 张成。\n",
    "\n",
    "则记 $\\ket{e^\\prime_i} = U \\ket{e_i}$, 根据U保持内积的性质 $\\braket{e^\\prime_i|e^\\prime_j} = \\braket{e_i|e_j} = \\delta_{ij}$, 即 $\\{e^\\prime_i\\}$ 也是一组正交归一基，设其张成 $V$ 的子空间 $W^\\prime$, 同时记 $W^\\prime$ 的正交补为 $W^{\\prime\\perp}$, 对应的正交归一基为 $\\{\\ket{f^\\prime_i}\\}$.\n",
    "\n",
    "则只需要定义在V上的算子 $U^\\prime$ 满足 $U^\\prime \\ket{e_i} = \\ket{e^\\prime_i}, U^\\prime \\ket{f_i} = \\ket{f^\\prime_i}$, 就能满足其为 $U$ 的扩张， 且 $U^\\prime$ 为标准正交基之间的变换，所以显然是一个酉算子。"
   ]
  },
  {
   "cell_type": "markdown",
   "id": "1399ac81",
   "metadata": {},
   "source": [
    "#### E.2.68\n",
    "\n",
    "设 $\\ket{a} = \\cos{\\frac{\\theta_a}{2}} \\ket{0} +  e^{i\\phi_a}\\sin{\\frac{\\theta_a}{2}}\\ket{1}$, $\\ket{b} = \\cos{\\frac{\\theta_b}{2}} \\ket{0} +  e^{i\\phi_b}\\sin{\\frac{\\theta_b}{2}}\\ket{1}$ 则 $\\ket{a}\\ket{b} = \\cos{\\frac{\\theta_a}{2}}\\cos{\\frac{\\theta_b}{2}}\\ket{00} + e^{i\\phi_a}\\sin{\\frac{\\theta_a}{2}}\\cos{\\frac{\\theta_b}{2}}\\ket{10} + e^{i\\phi_b}\\sin{\\frac{\\theta_b}{2}}\\cos{\\frac{\\theta_a}{2}}\\ket{01} + e^{i(\\phi_a+\\phi_b)}\\sin{\\frac{\\theta_a}{2}}\\sin{\\frac{\\theta_b}{2}}$\n",
    "\n",
    "$\\ket{\\psi} = \\ket{a}\\ket{b} （交叉项为0）\\Rightarrow \\phi_a = \\phi_b = 0, (\\theta_a=0, \\theta_b = \\pi) 或 (\\theta_b=0, \\theta_a = \\pi)$, 要满足以上条件则必有 $\\ket{00}$ 和 $\\ket{11}$ 项的振幅也为0，产生矛盾, 故 $\\ket{\\psi} \\neq \\ket{a}\\ket{b}$."
   ]
  },
  {
   "cell_type": "markdown",
   "id": "6c0264a1",
   "metadata": {},
   "source": [
    "#### E.2.69\n",
    "依定义：\n",
    "$\\ket{\\beta_{01}} = (Z \\otimes I)\\ket{\\beta_{00}}, \\ket{\\beta_{10}} = (X \\otimes I)\\ket{\\beta_{00}}, \\ket{\\beta_{11}} = (iY \\otimes I)\\ket{\\beta_{00}}$\n",
    "\n",
    "首先容易验证归一性: $\\braket{\\beta_{00}|\\beta_{00}} = 1$ 据此可推导 $\\braket{\\beta_{01}|\\beta_{01}} = \\bra{\\beta_{00}} (Z \\otimes I)^\\dagger (Z \\otimes I) \\ket{\\beta_{00}} = \\bra{\\beta_{00}}(I \\otimes I)\\ket{\\beta_{00}} = \\braket{\\beta_{00}|\\beta_{00}} = 1$, 同时易得 $(X \\otimes I)^\\dagger (X \\otimes I) = (I \\otimes I), (iY \\otimes I)^\\dagger (iY \\otimes I) = (-iY \\otimes I)^\\dagger (iY \\otimes I) = (I \\otimes I)$, 故有 $\\braket{\\beta_{10}|\\beta_{10}} = 1, \\braket{\\beta_{11}|\\beta_{11}} = 1$\n",
    "\n",
    "接下来验证正交性：\n",
    "\n",
    "$\n",
    "因\\ket{00}, \\ket{01}, \\ket{10}, \\ket{11}为标准正交基, 容易验证\\\\\n",
    "\\braket{\\beta_{00}|\\beta_{01}} = \\frac{\\braket{00|00} - \\braket{11|11}}{2} = 0\\\\\n",
    "\\braket{\\beta_{00}|\\beta_{10}} = \\frac{\\braket{00|10}+\\braket{00|01}+\\braket{11|10}+\\braket{11|01}}{2} = 0\\\\\n",
    "\\braket{\\beta_{00}|\\beta_{11}} = 0\\\\\n",
    "\\braket{\\beta_{01}|\\beta_{10}} = 0\\\\\n",
    "\\braket{\\beta_{01}|\\beta_{11}} = 0\\\\\n",
    "\\braket{\\beta_{10}|\\beta_{11}} = \\frac{-\\braket{10|10}+\\braket{01|01}}{2} = 0\\\\\n",
    "$"
   ]
  },
  {
   "cell_type": "markdown",
   "id": "d536135f",
   "metadata": {},
   "source": [
    "#### E.2.70\n",
    "\n",
    "$$\n",
    "\\bra{\\beta_{00}}E \\otimes I \\ket{\\beta_{00}} = (\\frac{\\bra{00}+\\bra{11}}{\\sqrt{2}})(E \\otimes I)(\\frac{\\ket{00}+\\ket{11}}{\\sqrt{2}}) = (\\frac{\\bra{00}+\\bra{11}}{\\sqrt{2}}) (\\frac{E\\ket{0}\\ket{0}+E\\ket{1}\\ket{1}}{\\sqrt{2}}) = \\frac{\\bra{0}E\\ket{0}+\\bra{1}E\\ket{1}}{2}\\\\\n",
    "\n",
    "\\bra{\\beta_{01}}E \\otimes I \\ket{\\beta_{01}} = (\\frac{\\bra{00}-\\bra{11}}{\\sqrt{2}})(E \\otimes I)(\\frac{\\ket{00}-\\ket{11}}{\\sqrt{2}}) = (\\frac{\\bra{00}-\\bra{11}}{\\sqrt{2}}) (\\frac{E\\ket{0}\\ket{0}-E\\ket{1}\\ket{1}}{\\sqrt{2}}) = \\frac{\\bra{0}E\\ket{0}+\\bra{1}E\\ket{1}}{2}\\\\\n",
    "\n",
    "\\bra{\\beta_{10}}E \\otimes I \\ket{\\beta_{10}} = (\\frac{\\bra{10}+\\bra{01}}{\\sqrt{2}})(E \\otimes I)(\\frac{\\ket{10}+\\ket{01}}{\\sqrt{2}}) = (\\frac{\\bra{10}+\\bra{01}}{\\sqrt{2}}) (\\frac{E\\ket{1}\\ket{0}+E\\ket{0}\\ket{1}}{\\sqrt{2}}) = \\frac{\\bra{1}E\\ket{1}+\\bra{0}E\\ket{0}}{2}\\\\\n",
    "\n",
    "\\bra{\\beta_{11}}E \\otimes I \\ket{\\beta_{11}} = (\\frac{\\bra{01}-\\bra{10}}{\\sqrt{2}})(E \\otimes I)(\\frac{\\ket{01}-\\ket{10}}{\\sqrt{2}}) = (\\frac{\\bra{01}-\\bra{10}}{\\sqrt{2}}) (\\frac{E\\ket{0}\\ket{1}-E\\ket{1}\\ket{0}}{\\sqrt{2}}) = \\frac{\\bra{1}E\\ket{1}+\\bra{0}E\\ket{0}}{2}\\\\\n",
    "$$\n",
    "\n",
    "不能，在四种情况下Alice发送的qubit分别为 $00:\\frac{\\ket{0}+\\ket{1}}{\\sqrt{2}}$, $01:\\frac{\\ket{0}-\\ket{1}}{\\sqrt{2}}$, $10:\\frac{\\ket{1}+\\ket{0}}{\\sqrt{2}}$, $11:\\frac{-\\ket{1}+\\ket{0}}{\\sqrt{2}}$, 显然无法将00与10区分开，无法将01与11区分开 （GPT说这个推导似乎有问题，需要使用密度矩阵的语言？）"
   ]
  },
  {
   "cell_type": "markdown",
   "id": "c39a73d5",
   "metadata": {},
   "source": [
    "#### E.2.71\n",
    "\n",
    "算子 $\\rho$ 作为与某一系综对应的密度算子必然有谱分解：$\\rho = \\sum_j \\lambda_j \\ket{j}\\bra{j}$, 且 $\\lambda_j$ 满足 $\\lambda_j > 0, \\sum_j \\lambda_j = 1$\n",
    "\n",
    "则 $\\rho^2 = \\sum_j \\lambda_j^2 \\ket{j}\\bra{j}$, 显然有 $\\mathrm{tr}(\\rho^2) = \\sum_j \\lambda_j^2 \\leq (\\sum_j \\lambda_j)^2 = 1$ 成立, 等号当且仅当求和只有一项也即 $\\rho$ 为纯态时取到。"
   ]
  },
  {
   "cell_type": "markdown",
   "id": "82f2dfd3",
   "metadata": {},
   "source": [
    "#### E.2.72\n",
    "\n",
    "1. 根据E.2.39, 单量子比特为2维复空间内积空间 $V$，其上的算子位于4维的希尔伯特空间 $L_V$, 恰好泡利算子 $\\{I, \\sigma_1, \\sigma_2, \\sigma_3\\}$ 满足正交归一条件（容易计算希尔伯特-施密特内积来验证），故其构成了 $L_V$ 上的一组标准正交基， 所以任意 $L_V$ 之内的算子都可以写成 $\\rho = \\frac{r_0 I + r_1 \\sigma_1 + r_2 \\sigma_2 + r_3 \\sigma_3}{2} $ 的形式。\n",
    "\n",
    "    $\\rho$ 作为任意混合态量子比特的密度矩阵，还需要满足迹条件：$\\Rightarrow \\mathrm{tr}(\\rho) = c_0 = 1.$\n",
    "\n",
    "    和半正定条件：首先半正定算子必然是厄米的 $\\Rightarrow r_1, r_2, r_3$ 都是实数, 记 $\\vec{r} = (r_1, r_2, r_3)$ 为实向量，可以写为 $\\vec{r} = \\|r\\|\\hat{n}$ 的形式， 其中 $\\hat{n}$ 为实单位向量, 由此 $\\rho = \\frac{I + \\|r\\| \\hat{n}\\vec{\\sigma} }{2}$. 根据 E.2.60, $\\hat{n}\\cdot\\vec{\\sigma}$ 有特征值 $\\pm 1$, 则 $\\vec{r}\\cdot\\vec{\\sigma}$ 有特征值 $\\pm \\|r\\|$. 又因为 $I = \\sum_i \\ket{i}\\bra{i}$ ($\\ket{i}$ 为任意标准正交基), 所以可以得到算子 $I + \\vec{r}\\cdot\\vec{\\sigma}$ 的特征值为 $1 \\pm \\|r\\|$, 半正定性要求特征值都大于等于0， 故 $\\|r\\| \\leq 1$. \n",
    "\n",
    "    综上，任意混合态量子比特的密度矩阵可以写成 $\\rho = \\frac{I + \\vec{r}\\cdot\\vec{\\sigma}}{2}$, 其中 $\\vec{r}$ 为三维实向量且满足 $\\|r\\| \\leq 1$.\n",
    "\n",
    "2. 对于 $\\rho = I / 2$, 显然 $\\vec{r} = 0$.\n",
    "\n",
    "3. $\\rho$ 为纯态 $\\Leftrightarrow \\mathrm{tr}(\\rho^2) = 1 \\Leftrightarrow \\mathrm{tr}(\\frac{(1 + \\|r\\|^2)I + 2\\vec{r}\\cdot\\vec{\\sigma}}{4}) = 1$ (由 E.2.60 $(\\hat{n}\\cdot\\vec{\\sigma})^2 = I$) $\\Leftrightarrow \\frac{2(1 + \\|r\\|^2)}{4} = 1 \\Leftrightarrow \\|r\\| = 1$.\n",
    "\n",
    "4. 记 $r = \\|\\vec{r}\\| \\leq 1$, 则 $\\vec{r} = r (\\sin{\\theta}\\cos{\\phi}, \\sin{\\theta}\\sin{\\phi}, \\cos{\\theta})$\n",
    "\n",
    "    则有 $\\vec{r}\\cdot\\vec{\\sigma} = r\\begin{bmatrix} \\cos{\\theta} & \\sin{\\theta}(\\cos{\\phi}-i\\sin{\\phi})\\\\ \\sin{\\theta}(\\cos{\\phi}+i\\sin{\\phi}) & -\\cos{\\theta} \\end{bmatrix} = r\\begin{bmatrix} \\cos{\\theta} & \\sin{\\theta}e^{-i\\phi}\\\\ \\sin{\\theta}e^{i\\phi} & -\\cos{\\theta} \\end{bmatrix} $\n",
    "\n",
    "    密度矩阵 $\\rho = \\frac{I + \\vec{r}\\cdot\\vec{\\sigma}}{2} = \\frac{\\begin{bmatrix}1 + r\\cos{\\theta} & r\\sin{\\theta}e^{-i\\phi} \\\\ r\\sin{\\theta}e^{i\\phi} & 1 -r\\cos{\\theta}\\end{bmatrix} }{2}$\n",
    "\n",
    "    设 $\\ket{\\psi} = \\cos{\\frac{\\theta}{2}}\\ket{0} + e^{i\\phi}\\sin{\\frac{\\theta}{2}}\\ket{1}$ 为某一纯态向量, 则其对应的纯态密度算子在基 $\\{\\ket{0}, \\ket{1}\\}$ 下的矩阵表示为 $\\rho = \\ket{\\psi}\\bra{\\psi} = \\begin{bmatrix} \\cos^2{\\frac{\\theta}{2}} & \\cos{\\frac{\\theta}{2}}\\sin{\\frac{\\theta}{2}}e^{-i\\phi}\\\\\\cos{\\frac{\\theta}{2}}\\sin{\\frac{\\theta}{2}}e^{i\\phi} & \\sin^2{\\frac{\\theta}{2}}\\end{bmatrix} = \\frac{\\begin{bmatrix} 1 + \\cos{\\theta} & \\sin{\\theta}e^{-i\\phi} \\\\ \\sin{\\theta}e^{i\\phi} & 1-\\cos{\\theta}\\end{bmatrix}}{2}$\n",
    "\n",
    "    显然对于纯态，布洛赫向量的也就是 $\\ket{\\psi}$ 在1.2节中的描述."
   ]
  },
  {
   "cell_type": "markdown",
   "id": "7353d4a8",
   "metadata": {},
   "source": [
    "#### E.2.73\n",
    "\n",
    "设密度算子 $\\rho$ 在其 $d$ 维支集 ($d = \\mathrm{rank}(\\rho)$) 上存在一组正交归一基 $\\{\\ket{e_1}, ..., \\ket{e_d}\\}$, 则对每一个基使用算子 $\\rho^{\\frac{1}{2}}$ 进行作用得到 $\\ket{\\tilde{\\phi_k}} = \\rho^{\\frac{1}{2}}\\ket{e_k}$. 而 $\\ket{\\tilde{\\phi_k}}$ 满足 $\\sum_k \\ket{\\tilde{\\phi_k}}\\bra{\\tilde{\\phi_k}} = \\rho \\sum_k \\ket{e_k}\\bra{e_k} = \\rho$.\n",
    "\n",
    "那么我们可以得到归一化的矢量 $\\ket{\\phi_k}$ 和对应的概率 $p_k$: $\\ket{\\phi_k} = \\frac{\\ket{\\tilde{\\phi_k}}}{\\|\\ket{\\tilde{\\phi_k}}\\|}, p_k = \\|\\ket{\\tilde{\\phi_k}}\\|^2$, 满足 $\\rho = \\sum_k p_k \\ket{\\phi_k}\\bra{\\phi_k}$. 则 $\\{p_k, \\ket{\\phi_k}\\}$ 为算子 $\\rho$ 的最小系综。只需要 $\\ket{\\psi}$ 被包含在该最小系综内，如 $\\ket{\\psi} = \\ket{\\phi_1}$ 即符合题意。接下来我们给出构造这样一个符号要求的正交归一基 $\\{\\ket{e_k}\\}$ 的方法：\n",
    "\n",
    "$\\ket{\\psi} = \\ket{\\phi_1} = \\frac{\\ket{\\tilde{\\phi_k}}}{\\|\\ket{\\tilde{\\phi_k}}\\|} = \\frac{\\rho^{\\frac{1}{2}}\\ket{e_1}}{\\|\\rho^{\\frac{1}{2}}\\ket{e_1}\\|} \\Rightarrow \\rho^{-\\frac{1}{2}}\\ket{\\psi} = \\frac{\\ket{e_1}}{\\|\\rho^{\\frac{1}{2}}\\ket{e_1}\\|} \\propto \\ket{e_1}$, 由 $\\ket{e_1}$ 归一得：$\\ket{e_1} = \\frac{\\rho^{-\\frac{1}{2}}\\ket{\\psi}}{\\|\\rho^{-\\frac{1}{2}}\\ket{\\psi}\\|}$, 我们只需要再在 $\\rho$ 支集中找到与 $\\ket{e_1}$ 正交且彼此之间正交的归一向量 $\\ket{e_2}, ..., \\ket{e_d}$ 即可，这是一个平凡的工作。\n",
    "\n",
    "最后我们计算在这样一个系综里 $\\ket{\\psi}$ 出现的概率 $p = p_1 = \\|\\ket{\\tilde{\\phi_1}}\\|^2 = \\braket{\\tilde{\\phi_1}|\\tilde{\\phi_1}} = \\bra{e_1}\\rho^{\\frac{1}{2}}\\rho^{\\frac{1}{2}}\\ket{e_1} = \\frac{\\bra{\\psi}\\rho^{-\\frac{1}{2}}\\rho\\rho^{-\\frac{1}{2}}\\ket{\\psi}}{\\|\\rho^{-\\frac{1}{2}}\\ket{\\psi}\\|^2} = \\frac{1}{\\bra{\\psi}\\rho^{-1}\\ket{\\psi}}$."
   ]
  }
 ],
 "metadata": {
  "kernelspec": {
   "display_name": "base",
   "language": "python",
   "name": "python3"
  },
  "language_info": {
   "codemirror_mode": {
    "name": "ipython",
    "version": 3
   },
   "file_extension": ".py",
   "mimetype": "text/x-python",
   "name": "python",
   "nbconvert_exporter": "python",
   "pygments_lexer": "ipython3",
   "version": "3.13.5"
  }
 },
 "nbformat": 4,
 "nbformat_minor": 5
}
