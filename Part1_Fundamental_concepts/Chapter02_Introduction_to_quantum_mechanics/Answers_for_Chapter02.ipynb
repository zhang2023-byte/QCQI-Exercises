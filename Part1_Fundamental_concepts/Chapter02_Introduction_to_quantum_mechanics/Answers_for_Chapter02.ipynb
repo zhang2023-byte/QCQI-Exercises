{
 "cells": [
  {
   "cell_type": "markdown",
   "id": "1e3f8493",
   "metadata": {},
   "source": [
    "#### E.2.1\n",
    "(1, -1) + (1, 2) - (2, 1) = 0"
   ]
  },
  {
   "cell_type": "markdown",
   "id": "c019817f",
   "metadata": {},
   "source": [
    "#### E.2.2\n",
    "输入基和输出基为$\\ket{0}$和$\\ket{1}$时，\n",
    "$$A = \n",
    "\\begin{bmatrix}\n",
    "0 & 1 \\\\\n",
    "1 & 0\n",
    "\\end{bmatrix}\n",
    "$$\n",
    "即为非门X。\n",
    "\n",
    "当输入基和输出基为$\\ket{+}$和$\\ket{-}$时，根据Hadamard门的效果（$H\\ket{0}=\\ket{+}$, $H\\ket{1}=\\ket{-}$我们有,\n",
    "$$\n",
    "A\\ket{+}=\\ket{-}, A\\ket{-}=\\ket{+}\\\\\n",
    "\\Leftrightarrow\n",
    "AH\\ket{0}=H\\ket{1}, AH\\ket{-1}=H\\ket{0}\\\\\n",
    "\\Leftrightarrow\n",
    "H^{-1}AH\\ket{0}=\\ket{1}, H^{-1}AH\\ket{1}=\\ket{0}\\\\\n",
    "\\Rightarrow\n",
    "H^{-1}AH = X\\\\\n",
    "\\Rightarrow\n",
    "A = HXH (因为H的逆为自身)\\\\\n",
    "$$\n",
    "\n"
   ]
  },
  {
   "cell_type": "markdown",
   "id": "b8031dde",
   "metadata": {},
   "source": [
    "#### E.2.3\n",
    "\n",
    "$$\n",
    "BA\\ket{v_i}=B\\sum_{j}A_{ji}\\ket{w_j}\\\\\n",
    "=\\sum_{j}A_{ji}B\\ket{w_j}\\\\\n",
    "=\\sum_{j}A_{ji}\\sum_{k}B_{kj}\\ket{x_k}\\\\\n",
    "=\\sum_{k}\\sum_{j}B_{kj}A_{ji}\\ket{x_k}\\\\\n",
    "令C_{ki}=\\sum_{j}B_{kj}A_{ji},则上式=\\sum_{k}C_{ki}\\ket{x_k}\n",
    "$$\n",
    "即C=BA为线性变化BA的矩阵表示"
   ]
  },
  {
   "cell_type": "markdown",
   "id": "b4f8e31a",
   "metadata": {},
   "source": [
    "#### E.2.4\n",
    "$$\n",
    "I\\ket{v_j}=\\sum_{i}I_{ij}\\ket{v_i}=\\ket{v_j}\\\\\n",
    "\\Rightarrow\n",
    "I_{ij}=\\delta_{ij}\n",
    "$$"
   ]
  }
 ],
 "metadata": {
  "kernelspec": {
   "display_name": "base",
   "language": "python",
   "name": "python3"
  },
  "language_info": {
   "name": "python",
   "version": "3.12.2"
  }
 },
 "nbformat": 4,
 "nbformat_minor": 5
}
