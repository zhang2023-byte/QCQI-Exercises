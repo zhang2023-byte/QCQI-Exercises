{
 "cells": [
  {
   "cell_type": "markdown",
   "id": "1e3f8493",
   "metadata": {},
   "source": [
    "#### E.2.1\n",
    "(1, -1) + (1, 2) - (2, 1) = 0"
   ]
  },
  {
   "cell_type": "markdown",
   "id": "c019817f",
   "metadata": {},
   "source": [
    "#### E.2.2\n",
    "输入基和输出基为$\\ket{0}$和$\\ket{1}$时，\n",
    "$$A = \n",
    "\\begin{bmatrix}\n",
    "0 & 1 \\\\\n",
    "1 & 0\n",
    "\\end{bmatrix}\n",
    "$$\n",
    "即为非门X。\n",
    "\n",
    "当输入基和输出基为$\\ket{+}$和$\\ket{-}$时，根据Hadamard门的效果（$H\\ket{0}=\\ket{+}$, $H\\ket{1}=\\ket{-}$我们有,\n",
    "$$\n",
    "A\\ket{+}=\\ket{-}, A\\ket{-}=\\ket{+}\\\\\n",
    "\\Leftrightarrow\n",
    "AH\\ket{0}=H\\ket{1}, AH\\ket{-1}=H\\ket{0}\\\\\n",
    "\\Leftrightarrow\n",
    "H^{-1}AH\\ket{0}=\\ket{1}, H^{-1}AH\\ket{1}=\\ket{0}\\\\\n",
    "\\Rightarrow\n",
    "H^{-1}AH = X\\\\\n",
    "\\Rightarrow\n",
    "A = HXH (因为H的逆为自身)\\\\\n",
    "$$\n",
    "\n"
   ]
  },
  {
   "cell_type": "markdown",
   "id": "b8031dde",
   "metadata": {},
   "source": [
    "#### E.2.3\n",
    "\n",
    "$$\n",
    "BA\\ket{v_i}=B\\sum_{j}A_{ji}\\ket{w_j}\\\\\n",
    "=\\sum_{j}A_{ji}B\\ket{w_j}\\\\\n",
    "=\\sum_{j}A_{ji}\\sum_{k}B_{kj}\\ket{x_k}\\\\\n",
    "=\\sum_{k}\\sum_{j}B_{kj}A_{ji}\\ket{x_k}\\\\\n",
    "令C_{ki}=\\sum_{j}B_{kj}A_{ji},则上式=\\sum_{k}C_{ki}\\ket{x_k}\n",
    "$$\n",
    "即C=BA为线性变化BA的矩阵表示"
   ]
  },
  {
   "cell_type": "markdown",
   "id": "b4f8e31a",
   "metadata": {},
   "source": [
    "#### E.2.4\n",
    "$$\n",
    "I\\ket{v_j}=\\sum_{i}I_{ij}\\ket{v_i}=\\ket{v_j}\\\\\n",
    "\\Rightarrow\n",
    "I_{ij}=\\delta_{ij}\n",
    "$$"
   ]
  },
  {
   "cell_type": "markdown",
   "id": "58f36930",
   "metadata": {},
   "source": [
    "#### E.2.5\n",
    "以上定义之函数显然满足内积的三条定义，略"
   ]
  },
  {
   "cell_type": "markdown",
   "id": "c7b12446",
   "metadata": {},
   "source": [
    "#### E.2.6\n",
    "$$\n",
    "\\Big(\\sum_{i}\\lambda_{i}\\ket{w_i}, \\ket{v}\\Big)\\\\\n",
    "=\\Big(\\ket{v}, \\sum_{i}\\lambda_{i}\\ket{w_i}\\Big)^*\\\\\n",
    "=\\sum_{i}\\lambda_{i}^*(\\ket{v}, \\ket{w_i})^*\\\\\n",
    "=\\sum_{i}\\lambda_{i}^*(\\ket{w_i}, \\ket{v})\n",
    "$$"
   ]
  },
  {
   "cell_type": "markdown",
   "id": "7a8a3980",
   "metadata": {},
   "source": [
    "#### E.2.7\n",
    "$$\n",
    "\\braket{v|w}=1*1+1*(-1)=0\\\\\n",
    "\\frac{\\ket{w}}{\\sqrt{2}}, \\frac{\\ket{v}}{\\sqrt{2}}\n",
    "$$"
   ]
  },
  {
   "cell_type": "markdown",
   "id": "105d662d",
   "metadata": {},
   "source": [
    "#### E.2.8\n",
    "易得格拉姆-施密特正交化方法产生的$\\ket{v_{k+1}}$为normalised，现在只需要证明其互相正交，即内积为0\n",
    "\n",
    "带入表达式易得对于所有$1 \\leq k \\leq d-1$, 都有$\\braket{v_1|v_{k+1}}=0$，即$\\ket{v_1}$和所有$\\ket{v_j}$都正交，其中$j\\geq 2$;\n",
    "\n",
    "同理可得对于所有$2 \\leq k \\leq d-1$，$\\ket{v_2}$和所有$\\ket{v_j}$都正交，其中$j\\geq 3$;\n",
    "\n",
    "故$\\ket{v_j}$为一组标准正交基"
   ]
  },
  {
   "cell_type": "markdown",
   "id": "2446a5e0",
   "metadata": {},
   "source": [
    "#### E.2.9\n",
    "$$\n",
    "I = \\ket{0}\\bra{0} + \\ket{1}\\bra{1}\\\\\n",
    "X = \\ket{0}\\bra{1} + \\ket{1}\\bra{0}\\\\\n",
    "Y = - i\\ket{0}\\bra{1} + i\\ket{1}\\bra{0}\\\\\n",
    "Z = \\ket{0}\\bra{0} - \\ket{1}\\bra{1}\n",
    "$$"
   ]
  },
  {
   "cell_type": "markdown",
   "id": "2e403b84",
   "metadata": {},
   "source": [
    "#### E.2.10\n",
    "根据算子的矩阵表示定义:\n",
    "$A\\ket{v_j} = \\sum_{i}A_{ij}\\ket{w_i}$\n",
    "\n",
    "则对于算子$\\ket{v_j}\\bra{v_k}$：\n",
    "$$\n",
    "(\\ket{v_j}\\bra{v_k})(\\ket{v_n}) = \\sum_{m}V_{mn}\\ket{v_m}\\\\\n",
    "\\Leftrightarrow\n",
    "\\ket{v_j}\\braket{v_k|v_n}=\\sum_{m}V_{mn}\\ket{v_m}\\\\\n",
    "\\Leftrightarrow\n",
    "\\ket{v_j}\\delta_{kn} = \\sum_{m}V_{mn}\\ket{v_m}\\\\\n",
    "$$\n",
    "根据线性无关性，当$k \\neq n$时，$V_{mn}=0$; \n",
    "\n",
    "当$k = n$，上式两边左乘$\\bra{v_m}$得到：\n",
    "$$\n",
    "\\delta_{mj} = \\sum_{m}V_{mk}\\braket{v_m|v_m}\\\\\n",
    "(根据归一化)\\Rightarrow \n",
    "V_{mk} = \\delta_{mj}\n",
    "$$\n",
    "\n",
    "即算子$\\ket{v_j}\\bra{v_k}$关于基$\\ket{v_i}$的矩阵表示只有第j行第k列为1，其余位置都为0\n"
   ]
  },
  {
   "cell_type": "markdown",
   "id": "df193266",
   "metadata": {},
   "source": [
    "#### E.2.11\n",
    "特征方程 $\\mathrm{det}(X-\\lambda I) = 0 \\Rightarrow \\lambda^2 -1 =0 \\Rightarrow \\lambda_1=1, \\lambda_2=-1$;\n",
    "对于$\\lambda_1=1$,有特征向量$v_1$满足: $(X-\\lambda_1 I) v_1 = 0$,解线性方程组得$v_1=(\\frac{1}{\\sqrt{2}}, \\frac{1}{\\sqrt{2}})$(归一化形式); \n",
    "对于$\\lambda_2=-1$,同上解得特征向量$v_2 = (\\frac{1}{\\sqrt{2}}, -\\frac{1}{\\sqrt{2}})$.\n",
    "\n",
    "对于Y解得特征值及其对应的特征向量$\\lambda_1=1, v_1=(i, -1)/\\sqrt{2}$; $\\lambda_2=-1, v_2=(i, 1)/\\sqrt{2}$.\n",
    "\n",
    "对于Z解得$\\lambda_1=1, v_1=(1, 0)$; $\\lambda_2=-1, v_2=(0, 1)$\n",
    "\n",
    "泡利X,Y,Z矩阵对角化都为\n",
    "$\n",
    "\\begin{bmatrix}\n",
    "1 & 0\\\\\n",
    "0 & -1\n",
    "\\end{bmatrix}\n",
    "$"
   ]
  },
  {
   "cell_type": "markdown",
   "id": "f1115e90",
   "metadata": {},
   "source": [
    "#### E.2.12\n",
    "矩阵$A=\\begin{bmatrix}\n",
    "1 & 0\\\\\n",
    "1 & 1\n",
    "\\end{bmatrix}$只有一个特征值$\\lambda=1$,缺少足够的线性无关特征向量，故不可对角化"
   ]
  },
  {
   "cell_type": "markdown",
   "id": "fec65009",
   "metadata": {},
   "source": [
    "#### E.2.13\n",
    "根据内积对第二个参数是线性，对第一参数是共轭线性，交换两个参数顺序的内积等价于对原内积取共轭：\n",
    "$$\n",
    "(\\ket{v}, \\ket{w}\\braket{v|w}) = \\braket{v|w}(\\ket{v}, \\ket{w})\\\\\n",
    " = (\\braket{v|w}^*\\ket{v}, \\ket{w})\\\\\n",
    " = (\\ket{v}\\braket{w|v}, \\ket{w})\\\\\n",
    "$$\n",
    "根据伴随的定义，有$(\\ket{w}\\bra{v})^\\dagger = \\ket{v}\\bra{w}$"
   ]
  },
  {
   "cell_type": "markdown",
   "id": "7c786f93",
   "metadata": {},
   "source": [
    "#### E.2.14\n",
    "$$\n",
    "(\\ket{v}, \\sum_{i}a_i A_i \\ket{w})\\\\\n",
    "=\\sum_{i}a_i(\\ket{v}, A_i\\ket{w})\\\\\n",
    "=\\sum_{i}a_i(A_i^\\dagger\\ket{v}, \\ket{w})\\\\\n",
    "=(\\sum_{i}a_i^* A_i^\\dagger\\ket{v}, \\ket{w})\\\\\n",
    "\n",
    "\\Rightarrow (\\sum_{i}a_i A_i)^\\dagger = \\sum_{i}a_i^* A_i^\\dagger\n",
    "$$"
   ]
  },
  {
   "cell_type": "markdown",
   "id": "5fb86c35",
   "metadata": {},
   "source": [
    "#### E.2.15"
   ]
  },
  {
   "cell_type": "markdown",
   "id": "016f48e7",
   "metadata": {},
   "source": [
    "$$\n",
    "(A\\ket{v}, \\ket{w})\\\\\n",
    "=(\\ket{w}, A\\ket{v})^*\\\\\n",
    "=(A^\\dagger\\ket{w}, \\ket{v})^*\\\\\n",
    "=(\\ket{v}, A^\\dagger\\ket{w})\\\\\n",
    "=((A^\\dagger)^\\dagger\\ket{v}, \\ket{w})\\\\\n",
    "\\Rightarrow (A^\\dagger)^\\dagger = A\n",
    "$$"
   ]
  },
  {
   "cell_type": "markdown",
   "id": "ae9fc337",
   "metadata": {},
   "source": [
    "#### E.2.16\n",
    "\n",
    "$$\n",
    "P^2\n",
    "= \\sum_{j=1}^k \\ket{j}\\bra{j}\\sum_{i=1}^k \\ket{i}\\bra{i}\\\\\n",
    "= \\sum_{i,j=1}^k \\ket{j}\\braket{j|i}\\bra{i}\\\\\n",
    "= \\sum_{i,j=1}^k \\ket{j}\\delta_{ji}\\bra{i}\\\\\n",
    "= \\sum_{i}^k \\ket{i}\\bra{i}\n",
    "= P\n",
    "$$"
   ]
  },
  {
   "cell_type": "markdown",
   "id": "08412ac8",
   "metadata": {},
   "source": [
    "#### E.2.17"
   ]
  },
  {
   "cell_type": "markdown",
   "id": "b7afb866",
   "metadata": {},
   "source": [
    "根据谱分解定理，正规矩阵都可对角化为：$M = \\sum_{i}\\lambda_{i}\\ket{i}\\bra{i}$, 其中$\\ket{i}$为M的特征向量（对应特征值$\\lambda_i$），它们组成一组标准正交基；\n",
    "\n",
    "则 $M^\\dagger = \\sum_{i}\\lambda_{i}^*\\ket{i}\\bra{i}$, M为厄米矩阵即 $M^\\dagger = M$ 显然当且仅当 $\\lambda_{i}^* = \\lambda_{i}$，即M的特征值都为实数。"
   ]
  },
  {
   "cell_type": "markdown",
   "id": "c726169b",
   "metadata": {},
   "source": [
    "#### E.2.18\n",
    "酉矩阵为正规矩阵，根据谱分解定理，可以对角化为$U = \\sum_{i}\\lambda_{i}\\ket{i}\\bra{i}$, 则：\n",
    "\n",
    "$$\n",
    "U^\\dagger U = \\sum_{i} \\lambda_{i}\\lambda_{i}^* \\ket{i}\\bra{i} = I = \\sum_{i}\\ket{i}\\bra{i}\\\\\n",
    "\n",
    "\\Rightarrow\n",
    "\\lambda_{i}^*\\lambda_{i} = 1\n",
    "$$\n",
    "即酉矩阵的所有特征值的模都为1."
   ]
  },
  {
   "cell_type": "markdown",
   "id": "09d53822",
   "metadata": {},
   "source": [
    "#### E.2.19\n",
    "直接对泡利矩阵X,Y,Z计算即可证明它们都是厄米的和酉的。"
   ]
  },
  {
   "cell_type": "markdown",
   "id": "56c5aaca",
   "metadata": {},
   "source": [
    "#### E.2.20\n",
    "考虑算子 $U \\equiv \\sum_{i} \\ket{w_i}\\bra{v_i}$,易知其为酉算子，满足 $U^\\dagger U = U U^\\dagger = I$. 则有：\n",
    "\n",
    "$$\n",
    "A_{ij}^\\prime = \\bra{v_i}A\\ket{v_j}\\\\\n",
    "= \\bra{v_i}IAI\\ket{v_j}\\\\\n",
    "= \\bra{v_i} U^\\dagger U A U^\\dagger U \\ket{v_j}\\\\\n",
    "= (\\sum_{j}\\braket{v_i|v_j}\\bra{w_j}) U A U^\\dagger (\\sum_{i}\\ket{w_i}\\braket{v_i|v_j})\\\\\n",
    "= \\bra{w_i} U A U^\\dagger \\ket{w_j}\n",
    "$$\n",
    "\n",
    "同时考虑 $ A_{ij}^{\\prime\\prime} = \\bra{w_i} A \\ket{w_j}$, 即 $A^\\prime$ 和 $A^{\\prime\\prime}$分别是算子 $U A U^\\dagger$ 和 $A$ 在同一组标准正交基下的矩阵表示，根据矩阵表示和算子之间的对应性，我们有：$U A^\\prime U^\\dagger = A^{\\prime\\prime}$"
   ]
  },
  {
   "cell_type": "markdown",
   "id": "14f051f8",
   "metadata": {},
   "source": [
    "#### E.2.21\n",
    "依题意，要证明厄米矩阵可以对角化，我们同专题2.2一样使用数学归纳法，首先对于矩阵M维数d=1的情况它显然可以对角化；我们假设n-1维的厄米矩阵可以对角化，接下来只需要证明若n-1维厄米矩阵可以对角化，则n维厄米矩阵可以对角化；如此就证明了对于任意维度的厄米矩阵可以对角化，证明如下：\n",
    "\n",
    "设$\\lambda$是M的一个特征值，P是到$\\lambda$本征空间上的投影，Q是到其正交补的投影，则：$M = (P+Q)M(P+Q) = PMP + QMP + PMQ + QMQ$.\n",
    "\n",
    "显然$PMP = \\lambda P; ~QMP = 0$,接下来证明$PMQ = 0$: \n",
    "$$\n",
    "因为M^\\dagger = M, QMP = 0 \\Rightarrow QM^\\dagger P = 0, 对该式取伴随运算（P和Q都是厄米算符）即得 PMQ = 0\n",
    "$$\n",
    "所以$M = PMP + QMQ$, 接下来由于$Q$和$M$都是厄米的, 显然$QMQ$也是厄米的，根据我们的假设M是n维的厄米矩阵，QMQ是n-1维的厄米矩阵可以对角化。由于PMP已经是对角化的，则M = PMP + QMQ可以对角化。"
   ]
  },
  {
   "cell_type": "markdown",
   "id": "b0b08b1d",
   "metadata": {},
   "source": [
    "#### E.2.22\n",
    "因为A为厄米算子，它的特征值都为实数，设 $v_{1}$, $v_{2}$为A的两个特征值，它对应的特征向量分别为$\\ket{v_1}$, $\\ket{v_2}$, 则有：\n",
    "\n",
    "$$\n",
    "(v_1 - v_2) (\\ket{v_1}, \\ket{v_2}) = v_1 (\\ket{v_1}, \\ket{v_2}) - v_2 (\\ket{v_1}, \\ket{v_2})\\\\\n",
    "= (v_1^*\\ket{v_1}, \\ket{v_2}) - (\\ket{v_1}, v_2\\ket{v_2}) \\\\\n",
    "= (v_1\\ket{v_1}, \\ket{v_2}) - (\\ket{v_1}, v_2\\ket{v_2}) \\\\\n",
    "= (A\\ket{v_1}, \\ket{v_2}) - (\\ket{v_1}, A\\ket{v_2}) \\\\\n",
    "= (A\\ket{v_1}, \\ket{v_2}) - (A^\\dagger\\ket{v_1}, \\ket{v_2})\\\\\n",
    "= (A\\ket{v_1}, \\ket{v_2}) - (A\\ket{v_1}, \\ket{v_2}) \\\\\n",
    "= 0\n",
    "$$\n",
    "因为$v_1 - v_2 \\neq 0$, 所以必然有$(\\ket{v_1}, \\ket{v_2}) = 0$, 即特征向量正交。"
   ]
  },
  {
   "cell_type": "markdown",
   "id": "db5ae728",
   "metadata": {},
   "source": [
    "#### E.2.23\n",
    "\n",
    "在习题E.2.16中我们证明了投影算子满足$P^2 = P$, 设其任意本征值为$\\lambda$,对应本征向量为$\\ket{v}$, 则有：\n",
    "\n",
    "$$\n",
    "(P^2 - P)\\ket{v} = 0\\\\\n",
    "\\Leftrightarrow\n",
    "(\\lambda^2 - \\lambda)\\ket{v} = 0\\\\\n",
    "\\Rightarrow\n",
    "\\lambda(\\lambda - 1) = 0\\\\\n",
    "\\Rightarrow\n",
    "\\lambda = 0 或 \\lambda = 1\n",
    "$$"
   ]
  },
  {
   "cell_type": "markdown",
   "id": "9e24aecd",
   "metadata": {},
   "source": [
    "#### E.2.24\n",
    "\n",
    "设算子 $B = \\frac{A + A^\\dagger}{2}, C=\\frac{A - A^\\dagger}{2i}$, 易得$B$和$C$都是厄米算子，且$A = B + iC$;\n",
    "\n",
    "$$\n",
    "则若A是正算子，则有对于任意向量 \\ket{v} 都有 (\\ket{v}, A\\ket{v}) 是非负实数\\\\\n",
    "\\Leftrightarrow\n",
    "(\\ket{v}, (B+iC)\\ket{v}) = 非负实数\\\\\n",
    "\\Leftrightarrow\n",
    "(\\ket{v}, B\\ket{v}) + i(\\ket{v}, C\\ket{v}) = 非负实数\\\\\n",
    "首先因为内积满足(\\ket{v}, \\ket{w}) = (\\ket{w}, \\ket{v})^*, 则（\\ket{v}, \\ket{v}）必然为一个实数，且按照定义大于等于0；\\\\\n",
    "有由于B为厄米算子，(\\ket{v}, B\\ket{v}) = (B\\ket{v}, \\ket{v}) = (B\\ket{v}, \\ket{v})^*是一个实数；对于（\\ket{v}, C\\ket{v}）也同理为实数\\\\\n",
    "故要满足(\\ket{v}, (B+iC)\\ket{v}) = 非负实数, 必须C = 0, 即A = B为厄米算子\n",
    "$$"
   ]
  },
  {
   "cell_type": "markdown",
   "id": "08549285",
   "metadata": {},
   "source": [
    "#### E.2.25\n",
    "\n",
    "$$\n",
    "(\\ket{v}, A^\\dagger A\\ket{v}) = (A\\ket{v}, A\\ket{v}) \\geq 0\n",
    "$$"
   ]
  },
  {
   "cell_type": "markdown",
   "id": "7179b948",
   "metadata": {},
   "source": [
    "#### E.2.26\n",
    "\n",
    "$$\n",
    "\\ket{\\psi} = (\\ket{0} + \\ket{1})/\\sqrt{2}\\\\\n",
    "\\ket{\\psi} ^ {\\otimes 2} = (\\ket{00} + \\ket{01} + \\ket{10} + \\ket{11})/2\\\\\n",
    "\\ket{\\psi} ^ {\\otimes 3} = (\\ket{000} + \\ket{001} + \\ket{010} + \\ket{011} + \\ket{100} + \\ket{101} + \\ket{110} + \\ket{111})/2\\sqrt{2}\n",
    "$$"
   ]
  },
  {
   "cell_type": "markdown",
   "id": "2511c089",
   "metadata": {},
   "source": [
    "#### E.2.27\n",
    "\n",
    "$$\n",
    "X \\otimes Z = \n",
    "\\begin{bmatrix}\n",
    "0 \\cdot Z & 1 \\cdot Z\\\\\n",
    "1 \\cdot Z & 0 \\cdot Z\n",
    "\\end{bmatrix}\n",
    "=\n",
    "\\begin{bmatrix}\n",
    "0 & 0 & 1 & 0\\\\\n",
    "0 & 0 & 0 & -1\\\\\n",
    "1 & 0 & 0 & 0\\\\\n",
    "0 & -1 & 0 & 0\n",
    "\\end{bmatrix}\n",
    "$$\n",
    "\n",
    "$$\n",
    "I \\otimes X = \n",
    "\\begin{bmatrix}\n",
    "1 \\cdot X & 0 \\cdot X\\\\\n",
    "0 \\cdot X & 1 \\cdot X\n",
    "\\end{bmatrix}\n",
    "=\n",
    "\\begin{bmatrix}\n",
    "0 & 1 & 0 & 0\\\\\n",
    "1 & 0 & 0 & 0\\\\\n",
    "0 & 0 & 0 & 1\\\\\n",
    "0 & 0 & 1 & 0\n",
    "\\end{bmatrix}\n",
    "$$\n",
    "\n",
    "$$\n",
    "X \\otimes I = \n",
    "\\begin{bmatrix}\n",
    "0 \\cdot I & 1 \\cdot I\\\\\n",
    "1 \\cdot I & 0 \\cdot I\n",
    "\\end{bmatrix}\n",
    "=\n",
    "\\begin{bmatrix}\n",
    "0 & 0 & 1 & 0\\\\\n",
    "0 & 0 & 0 & 1\\\\\n",
    "1 & 0 & 0 & 0\\\\\n",
    "0 & 1 & 0 & 0\n",
    "\\end{bmatrix}\n",
    "$$\n",
    "张量积不可交换"
   ]
  },
  {
   "cell_type": "markdown",
   "id": "3a14a5e0",
   "metadata": {},
   "source": [
    "#### E.2.28\n",
    "根据算子张量积的矩阵表示等于算子分别矩阵表示的克罗内克积:\n",
    "\n",
    "因为$(A_{ij}B_{kl})^* = A_{ij}^* B_{kl}^*$, $(A \\otimes B)^* = A^* \\otimes B^*$显然成立；\n",
    "\n",
    "设$A$是一个 $m \\times n$ 的矩阵，$B$ 是一个 $p \\times q$ 的矩阵，记 $C = A \\otimes B$, 则有:\n",
    "\n",
    "$$\n",
    "C_{rs} = A_{ij}B_{kl}\\\\\n",
    "满足r=(i - 1) \\times p + k, s=(j - 1) \\times q + l\\\\\n",
    "则转置之后，C^T_{rs} = C_{sr} = A_{ji}B_{qp} = A^T_{ij}B^T_{pq}\\\\\n",
    "\\Rightarrow\n",
    "A^T_{ij} = A_{ji}, B^T_{pq} = B_{qp}\\\\\n",
    "\\Rightarrow\n",
    "(A \\otimes B)^T = A^T \\otimes B^T\n",
    "$$\n",
    "\n",
    "因为以上已经证明了转置、复共轭关于张量积具有“分配性”，故：\n",
    "\n",
    "$$\n",
    "(A \\otimes B)^\\dagger = ((A \\otimes B)^{*})^T\n",
    "\n",
    "=(A^* \\otimes B^*)^T\n",
    "\n",
    "=(A^*)^T \\otimes (B^*)^T\n",
    "\n",
    "=A^\\dagger \\otimes B^\\dagger\n",
    "$$"
   ]
  },
  {
   "cell_type": "markdown",
   "id": "1d4d7f02",
   "metadata": {},
   "source": [
    "#### E.2.29\n",
    "设$U_1$和$U_2$为两个酉算子,分别作用在两个向量空间的向量$\\ket{v}$和$\\ket{w}$，则：\n",
    "\n",
    "$$\n",
    "(U_1 \\otimes U_2)^\\dagger (U_1 \\otimes U_2) (\\ket{v} \\otimes \\ket{w})\\\\\n",
    "= (U_1^\\dagger \\otimes U_2^\\dagger)(U_1 \\ket{v} \\otimes U_2 \\ket{w})\\\\\n",
    "= U_1^\\dagger U_1 \\ket{v} \\otimes U_2^\\dagger U_2 \\ket{w}\\\\\n",
    "= I \\ket{v} \\otimes I \\ket{w}\\\\\n",
    "= \\ket{v} \\otimes \\ket{w}\\\\\n",
    "\\Rightarrow\n",
    "(U_1 \\otimes U_2)^\\dagger (U_1 \\otimes U_2) = I \\otimes I\\\\\n",
    "即两个酉算子的张量积是酉的 \n",
    "$$"
   ]
  },
  {
   "cell_type": "markdown",
   "id": "d7ee974a",
   "metadata": {},
   "source": [
    "#### E.2.30\n",
    "设$A_1$和$A_2$为两个厄米算子，$(A_1 \\otimes A_2)^\\dagger = A_1^\\dagger \\otimes A_2^\\dagger = A_1 \\otimes A_2$，其张量积也是厄米的。"
   ]
  },
  {
   "cell_type": "markdown",
   "id": "e86ada29",
   "metadata": {},
   "source": [
    "#### E.2.31\n",
    "设$A_1$和$A_2$为两个正算子，满足 $(\\ket{v}, A_1\\ket{v}) \\geq 0$ 和 $(\\ket{w}, A_2\\ket{w}) \\geq 0$ 则：\n",
    "\n",
    "$$\n",
    "(\\ket{v}\\otimes \\ket{w}, (A_1\\otimes A_2)(\\ket{v} \\otimes \\ket{w}))\\\\\n",
    "= (\\ket{v}\\otimes \\ket{w}, A_1\\ket{v} \\otimes A_2\\ket{w})\\\\\n",
    "= (\\ket{v}, A_1\\ket{v}) \\cdot (\\ket{w}, A_2\\ket{w}) \\geq 0\n",
    "$$"
   ]
  },
  {
   "cell_type": "markdown",
   "id": "2e987d28",
   "metadata": {},
   "source": [
    "#### E.2.32\n",
    "设$P$和$Q$是投影算子，则其张量积满足：$(P \\otimes Q)^2 = (P^2 \\otimes Q^2) = P \\otimes Q$,也是投影算子"
   ]
  },
  {
   "cell_type": "markdown",
   "id": "013e819f",
   "metadata": {},
   "source": [
    "#### E.2.33\n"
   ]
  },
  {
   "cell_type": "markdown",
   "id": "f93128e5",
   "metadata": {},
   "source": []
  }
 ],
 "metadata": {
  "kernelspec": {
   "display_name": "base",
   "language": "python",
   "name": "python3"
  },
  "language_info": {
   "name": "python",
   "version": "3.12.2"
  }
 },
 "nbformat": 4,
 "nbformat_minor": 5
}
