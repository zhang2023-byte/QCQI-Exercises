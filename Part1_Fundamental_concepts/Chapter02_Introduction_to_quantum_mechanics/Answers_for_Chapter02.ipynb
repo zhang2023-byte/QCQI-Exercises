{
 "cells": [
  {
   "cell_type": "markdown",
   "id": "1e3f8493",
   "metadata": {},
   "source": [
    "#### E.2.1\n",
    "(1, -1) + (1, 2) - (2, 1) = 0"
   ]
  },
  {
   "cell_type": "markdown",
   "id": "c019817f",
   "metadata": {},
   "source": [
    "#### E.2.2\n",
    "输入基和输出基为$\\ket{0}$和$\\ket{1}$时，\n",
    "$$A = \n",
    "\\begin{bmatrix}\n",
    "0 & 1 \\\\\n",
    "1 & 0\n",
    "\\end{bmatrix}\n",
    "$$\n",
    "即为非门X。\n",
    "\n",
    "当输入基和输出基为$\\ket{+}$和$\\ket{-}$时，根据Hadamard门的效果（$H\\ket{0}=\\ket{+}$, $H\\ket{1}=\\ket{-}$我们有,\n",
    "$$\n",
    "A\\ket{+}=\\ket{-}, A\\ket{-}=\\ket{+}\\\\\n",
    "\\Leftrightarrow\n",
    "AH\\ket{0}=H\\ket{1}, AH\\ket{-1}=H\\ket{0}\\\\\n",
    "\\Leftrightarrow\n",
    "H^{-1}AH\\ket{0}=\\ket{1}, H^{-1}AH\\ket{1}=\\ket{0}\\\\\n",
    "\\Rightarrow\n",
    "H^{-1}AH = X\\\\\n",
    "\\Rightarrow\n",
    "A = HXH (因为H的逆为自身)\\\\\n",
    "$$\n",
    "\n"
   ]
  },
  {
   "cell_type": "markdown",
   "id": "b8031dde",
   "metadata": {},
   "source": [
    "#### E.2.3\n",
    "\n",
    "$$\n",
    "BA\\ket{v_i}=B\\sum_{j}A_{ji}\\ket{w_j}\\\\\n",
    "=\\sum_{j}A_{ji}B\\ket{w_j}\\\\\n",
    "=\\sum_{j}A_{ji}\\sum_{k}B_{kj}\\ket{x_k}\\\\\n",
    "=\\sum_{k}\\sum_{j}B_{kj}A_{ji}\\ket{x_k}\\\\\n",
    "令C_{ki}=\\sum_{j}B_{kj}A_{ji},则上式=\\sum_{k}C_{ki}\\ket{x_k}\n",
    "$$\n",
    "即C=BA为线性变化BA的矩阵表示"
   ]
  },
  {
   "cell_type": "markdown",
   "id": "b4f8e31a",
   "metadata": {},
   "source": [
    "#### E.2.4\n",
    "$$\n",
    "I\\ket{v_j}=\\sum_{i}I_{ij}\\ket{v_i}=\\ket{v_j}\\\\\n",
    "\\Rightarrow\n",
    "I_{ij}=\\delta_{ij}\n",
    "$$"
   ]
  },
  {
   "cell_type": "markdown",
   "id": "58f36930",
   "metadata": {},
   "source": [
    "#### E.2.5\n",
    "以上定义之函数显然满足内积的三条定义，略"
   ]
  },
  {
   "cell_type": "markdown",
   "id": "c7b12446",
   "metadata": {},
   "source": [
    "#### E.2.6\n",
    "$$\n",
    "\\Big(\\sum_{i}\\lambda_{i}\\ket{w_i}, \\ket{v}\\Big)\\\\\n",
    "=\\Big(\\ket{v}, \\sum_{i}\\lambda_{i}\\ket{w_i}\\Big)^*\\\\\n",
    "=\\sum_{i}\\lambda_{i}^*(\\ket{v}, \\ket{w_i})^*\\\\\n",
    "=\\sum_{i}\\lambda_{i}^*(\\ket{w_i}, \\ket{v})\n",
    "$$"
   ]
  },
  {
   "cell_type": "markdown",
   "id": "7a8a3980",
   "metadata": {},
   "source": [
    "#### E.2.7\n",
    "$$\n",
    "\\braket{v|w}=1*1+1*(-1)=0\\\\\n",
    "\\frac{\\ket{w}}{\\sqrt{2}}, \\frac{\\ket{v}}{\\sqrt{2}}\n",
    "$$"
   ]
  },
  {
   "cell_type": "markdown",
   "id": "105d662d",
   "metadata": {},
   "source": [
    "#### E.2.8\n",
    "易得格拉姆-施密特正交化方法产生的$\\ket{v_{k+1}}$为normalised，现在只需要证明其互相正交，即内积为0\n",
    "\n",
    "带入表达式易得对于所有$1 \\leq k \\leq d-1$, 都有$\\braket{v_1|v_{k+1}}=0$，即$\\ket{v_1}$和所有$\\ket{v_j}$都正交，其中$j\\geq 2$;\n",
    "\n",
    "同理可得对于所有$2 \\leq k \\leq d-1$，$\\ket{v_2}$和所有$\\ket{v_j}$都正交，其中$j\\geq 3$;\n",
    "\n",
    "故$\\ket{v_j}$为一组标准正交基"
   ]
  },
  {
   "cell_type": "markdown",
   "id": "2446a5e0",
   "metadata": {},
   "source": [
    "#### E.2.9\n",
    "$$\n",
    "I = \\ket{0}\\bra{0} + \\ket{1}\\bra{1}\\\\\n",
    "X = \\ket{0}\\bra{1} + \\ket{1}\\bra{0}\\\\\n",
    "Y = - i\\ket{0}\\bra{1} + i\\ket{1}\\bra{0}\\\\\n",
    "Z = \\ket{0}\\bra{0} - \\ket{1}\\bra{1}\n",
    "$$"
   ]
  },
  {
   "cell_type": "markdown",
   "id": "2e403b84",
   "metadata": {},
   "source": [
    "#### E.2.10\n",
    "根据算子的矩阵表示定义:\n",
    "$A\\ket{v_j} = \\sum_{i}A_{ij}\\ket{w_i}$\n",
    "\n",
    "则对于算子$\\ket{v_j}\\bra{v_k}$：\n",
    "$$\n",
    "(\\ket{v_j}\\bra{v_k})(\\ket{v_n}) = \\sum_{m}V_{mn}\\ket{v_m}\\\\\n",
    "\\Leftrightarrow\n",
    "\\ket{v_j}\\braket{v_k|v_n}=\\sum_{m}V_{mn}\\ket{v_m}\\\\\n",
    "\\Leftrightarrow\n",
    "\\ket{v_j}\\delta_{kn} = \\sum_{m}V_{mn}\\ket{v_m}\\\\\n",
    "$$\n",
    "根据线性无关性，当$k \\neq n$时，$V_{mn}=0$; 当$k = n$，上式两边左乘$\\bra{v_m}$得到：\n",
    "$$\n",
    "\\delta_{mj} = \\sum_{m}V_{mk}\\braket{v_m|v_m}\n",
    "$$\n"
   ]
  },
  {
   "cell_type": "markdown",
   "id": "007c99d4",
   "metadata": {},
   "source": []
  }
 ],
 "metadata": {
  "kernelspec": {
   "display_name": "base",
   "language": "python",
   "name": "python3"
  },
  "language_info": {
   "name": "python",
   "version": "3.12.2"
  }
 },
 "nbformat": 4,
 "nbformat_minor": 5
}
