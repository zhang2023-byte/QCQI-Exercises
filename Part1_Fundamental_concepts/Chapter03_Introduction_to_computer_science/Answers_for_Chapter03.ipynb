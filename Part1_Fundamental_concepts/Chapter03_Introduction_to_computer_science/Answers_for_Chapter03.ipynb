{
 "cells": [
  {
   "cell_type": "markdown",
   "id": "a5ce7d1a",
   "metadata": {},
   "source": [
    "#### E.3.1\n",
    "\n",
    "这个过程的状态无法记录在无限长的纸带上、无法通过有限状态机操控读写头修改纸带上的数据实现该过程不同状态的演化；\n",
    "\n",
    "GPT5:要在自然界中识别一个能够计算**图灵机无法计算的函数**的过程，本质上就是要寻找所谓的\\*\\*超图灵计算（hypercomputation）\\*\\*现象。理论上，这类过程需要满足以下几点：\n",
    "\n",
    "---\n",
    "\n",
    "## 1. 理论条件\n",
    "\n",
    "* **无限精度或无限速度**\n",
    "  图灵机受限于有限的状态数、有限精度和有限时间。如果自然界中某个过程可以在有限时间内完成**无限多步运算**（例如 Zeno 过程、Malament–Hogarth 时空），则它可能超越图灵可计算性。\n",
    "\n",
    "* **非递归可判定的物理量**\n",
    "  如果某个物理过程的结果取决于一个不可计算的实数（比如它的二进制展开包含不可计算模式），那么利用它就可能解决图灵机无法完成的判定问题（如停机问题）。\n",
    "\n",
    "* **访问非可计算的初始条件**\n",
    "  如果一个系统的初始状态中就编码了非可计算的信息，并且该信息能被物理过程提取出来，那么该过程可能实现超图灵计算。\n",
    "\n",
    "---\n",
    "\n",
    "## 2. 潜在候选\n",
    "\n",
    "1. **连续量物理系统**\n",
    "\n",
    "   * 理想化的模拟（如无限精度的模拟计算机）可以“直接读取”不可计算实数的某一位。\n",
    "   * 例如某些混沌系统对初始条件无限敏感，如果初值是不可计算的，演化结果也不可计算。\n",
    "\n",
    "2. **广义相对论的奇异时空**\n",
    "\n",
    "   * Malament–Hogarth 时空：在某些广义相对论解中，存在观察者可以在有限固有时间内接收到另一观察者经历无限计算时间后的信号（例如 Kerr 黑洞内部的某些轨迹）。\n",
    "\n",
    "3. **量子测量假说**\n",
    "\n",
    "   * 有人提出量子测量结果可能涉及不可计算概率分布（但这在主流量子理论中没有实验证据）。\n",
    "   * 若某种量子演化能“瞬间解”停机问题，则超越图灵机。\n",
    "\n",
    "4. **非标准物理假说**\n",
    "\n",
    "   * Penrose 提出的意识-量子引力模型（Orch-OR）认为意识可能涉及不可计算过程，但无实验支持。\n",
    "\n",
    "---\n",
    "\n",
    "## 3. 实际困难\n",
    "\n",
    "* **理想化假设**：目前已知的所有候选要么依赖于理想化的无限精度、无限能量，要么需要物理上无法实现的时空几何。\n",
    "* **可观测性**：即使自然界存在不可计算的物理过程，如何有效地“读取”结果仍是巨大障碍。\n",
    "* **实验可重复性**：科学要求可重复验证，超图灵现象若依赖随机或不可预测的特性，将难以通过实验确立。\n",
    "\n",
    "---\n",
    "\n",
    "## 4. 识别路径\n",
    "\n",
    "要验证某个自然过程是否超越图灵可计算性，至少需要：\n",
    "\n",
    "1. **明确函数目标**：选择一个已知图灵机不可计算的函数（如停机函数）。\n",
    "2. **构建映射方案**：将该函数的输入映射为物理过程的初始条件。\n",
    "3. **检测输出可判定性**：确保该过程的输出能在有限可测量精度和有限时间内给出明确的判定结果。\n",
    "4. **验证鲁棒性**：在实验噪声、有限精度条件下依然稳定有效。\n",
    "\n",
    "---\n",
    "\n",
    "如果你愿意，我可以给你画一张\\*\\*“超图灵计算可能性路线图”\\*\\*，把物理学中已提出的候选机制、它们的理论依据、实验难度和争议程度放在同一张对比图里，这样一眼就能看出哪些方向更有探索价值。\n"
   ]
  },
  {
   "cell_type": "markdown",
   "id": "6a0f4634",
   "metadata": {},
   "source": [
    "#### E.3.2\n",
    "\n",
    "图灵机靠其上编写的程序进行区分，每一行程序按顺序对应一个质数的指数，然后这个指数又可以进行质因数分解，比如程序行 $\\langle q, x, q^\\prime, x^\\prime, s\\rangle$ 因为每一个元素的取值都是有限的，所以可以编码到前5个质数的指数上。综上，就用$p_1^{a_1}p_2^{a_2}...p_k^{a_k}， a_i = 2^{b_{i1}}3^{b_{i2}}5^{b_{i3}}7^{b_{i4}}11^{b_{i5}}$ 来编码一台单带图灵机"
   ]
  },
  {
   "cell_type": "markdown",
   "id": "f5d45484",
   "metadata": {},
   "source": [
    "#### E.3.3\n",
    "\n",
    "我们使用双带图灵机完成这一点，在一开始纸带一上是二进制数 $x$ , 纸带二上是空白；最后输出纸带二为 $x$ 的反序比特, 下面给出对应的程序：\n",
    "\n",
    "$$\n",
    "1: \\langle q_s, \\triangleright, \\triangleright, q_1, \\triangleright, \\triangleright, +1, +1\\rangle\\\\\n",
    "2: \\langle q_1, 0, b, q_1, 0, b, +1, 0\\rangle\\\\\n",
    "3: \\langle q_1, 1, b, q_1, 1, b, +1, 0\\rangle\\\\\n",
    "4: \\langle q_1, b, b, q_2, b, b, -1, 0\\rangle\\\\\n",
    "5: \\langle q_2, 0, b, q_2, 0, 0, -1, +1\\rangle\\\\\n",
    "6: \\langle q_2, 1, b, q_2, 1, 1, -1, +1\\rangle\\\\\n",
    "7: \\langle q_2, \\triangleright, b, q_h, \\triangleright, b, 0, 0\\rangle\\\\\n",
    "$$"
   ]
  },
  {
   "cell_type": "markdown",
   "id": "aae1a724",
   "metadata": {},
   "source": [
    "#### E.3.4\n",
    "\n",
    "设数据的初始状态为 $0,...,0, x, b, 0, ..., 0, y$ 存储与纸带一上, 模二加法即按位取异或，经分析这个过程可以使用双带图灵机完成，纸带一用于记录初始数据和表示输出，纸带二（初始全b）用于存储中间结果, 字母表 $\\Gamma=\\{\\triangleright, 0, 1, b\\}$。下面给出对应的程序：\n",
    "\n",
    "$$\n",
    "Step1: 使用纸带一上的数据进行相加，并将结果（反序）暂存到纸带二上\\\\\n",
    "1: \\langle q_s, \\triangleright, \\triangleright, q_1, \\triangleright, \\triangleright, +1, +1 \\rangle\\\\\n",
    "2: \\langle q_1, 0, b, q_1, 0, b, +1, 0 \\rangle\\\\\n",
    "3: \\langle q_1, 1, b, q_1, 1, b, +1, 0 \\rangle\\\\\n",
    "4: \\langle q_1, b, b, q_2, b, b, -1, 0 \\rangle\\\\\n",
    "5: \\langle q_2, 0, b, q_3, b, 0, +1, +1 \\rangle\\\\\n",
    "6: \\langle q_2, 1, b, q_3, b, 1, +1, +1 \\rangle\\\\\n",
    "7: \\langle q_3, b, b, q_3, b, b, +1, 0 \\rangle\\\\\n",
    "\n",
    "8: \\langle q_3, 0, b, q_4, 0, b, +1, 0 \\rangle\\\\\n",
    "9: \\langle q_3, 1, b, q_4, 1, b, +1, 0 \\rangle\\\\\n",
    "\n",
    "10: \\langle q_4, 0, b, q_4, 0, b, +1, 0 \\rangle\\\\\n",
    "11: \\langle q_4, 1, b, q_4, 1, b, +1, 0 \\rangle\\\\\n",
    "\n",
    "12: \\langle q_4, b, b, q_5, b, b, -1, -1 \\rangle\\\\\n",
    "\n",
    "13: \\langle q_5, 0, 0, q_6, b, 0, 0, +1 \\rangle\\\\\n",
    "14: \\langle q_5, 1, 0, q_6, b, 1, 0, +1 \\rangle\\\\\n",
    "15: \\langle q_5, 0, 1, q_6, b, 1, 0, +1 \\rangle\\\\\n",
    "16: \\langle q_5, 1, 1, q_6, b, 0, 0, +1 \\rangle\\\\\n",
    "\n",
    "17: \\langle q_6, 0, b, q_6, 0, b, -1, 0 \\rangle\\\\\n",
    "18: \\langle q_6, 1, b, q_6, 1, b, -1, 0 \\rangle\\\\\n",
    "19: \\langle q_6, b, b, q_6, b, b, -1, 0 \\rangle\\\\\n",
    "20: \\langle q_6, \\triangleright, b, q_1, \\triangleright, b, +1, 0 \\rangle\\\\\n",
    "21: \\langle q_2, \\triangleright, b, q_7, \\triangleright, b, 0, 0 \\rangle\\\\\n",
    "22: \\langle q_7, \\triangleright, b, q_7, \\triangleright, b, 0, -1 \\rangle\\\\\n",
    "23: \\langle q_7, \\triangleright, 0, q_7, \\triangleright, 0, 0, -1 \\rangle\\\\\n",
    "24: \\langle q_7, \\triangleright, 1, q_7, \\triangleright, 1, 0, -1 \\rangle\\\\\n",
    "\n",
    "\n",
    "Step2: 将纸带二的数据反向输入回纸带一(使用E.3.3的结果)\\\\\n",
    "25: \\langle q_7, \\triangleright, \\triangleright, q_8, \\triangleright, \\triangleright, +1, +1\\rangle\\\\\n",
    "26: \\langle q_8, b, 0, q_8, b, 0, 0, +1\\rangle\\\\\n",
    "27: \\langle q_8, b, 1, q_8, b, 1, 0, +1\\rangle\\\\\n",
    "28: \\langle q_8, b, b, q_9, b, b, 0, -1\\rangle\\\\\n",
    "29: \\langle q_9, b, 0, q_9, 0, 0, +1, -1\\rangle\\\\\n",
    "30: \\langle q_9, b, 1, q_9, 1, 1, +1, -1\\rangle\\\\\n",
    "31: \\langle q_9, b, \\triangleright, q_h, b, \\triangleright, 0, 0\\rangle\\\\\n",
    "$$\n",
    "\n",
    "上述解答写的我头晕，不保证正确，其实更简单的方法似乎是把y转移到空白的纸带二上，然后将两条纸带的读写头都从右往左按位异或即可，但我想偷懒就不写了。"
   ]
  },
  {
   "cell_type": "markdown",
   "id": "ebdf25a0",
   "metadata": {},
   "source": [
    "#### E.3.5  \n",
    "\n",
    "假设存在停机函数，\n",
    "$$\n",
    "h_b(x) \\equiv \n",
    "\\begin{cases}\n",
    "  0, 如果编号为x的机器在空白输入上不停机 \\\\\n",
    "  1, 如果编号为x的机器在空白输入上停机\n",
    "\\end{cases}\n",
    "$$\n",
    "\n",
    "该函数被编写为算法 $\\mathrm{HALT_b}(x)$。考虑计算函数 $\\mathrm{TURING_b}(x)$ 的算法，伪代码为："
   ]
  },
  {
   "cell_type": "code",
   "execution_count": null,
   "id": "81bb14ce",
   "metadata": {},
   "outputs": [],
   "source": [
    "def TURING_b(x):\n",
    "    y = HALT_b(x)\n",
    "    if y == 0:\n",
    "        stop\n",
    "    else:\n",
    "        dead_loop"
   ]
  },
  {
   "cell_type": "markdown",
   "id": "244855d4",
   "metadata": {},
   "source": [
    "由于 $\\mathrm{HALT_b}$ 是合法的程序，所以 $\\mathrm{TURING_b}$ 必然是合法的程序，可以用一个编号为 $t_b$ 的图灵机实现。根据 $h_b(x)$ 的定义，$h_b(t_b) = 1$ 当且仅当图灵机 $t_b$ 在空白输入上停机, 但程序 $\\mathrm{TURING_b}$ 告诉我们它在空白输入上停机当且仅当 $h_b(t_b) = 0$, 产生矛盾。（自指）"
   ]
  },
  {
   "cell_type": "markdown",
   "id": "3cc40d8f",
   "metadata": {},
   "source": [
    "#### E.3.6\n",
    "\n",
    "假设存在概率型图灵机对应的算法 $\\mathrm{HALT_p}$ 对于所有的 $x$ 都以严格大于 1/2 的概率输出 $h_p(x)$, 可以构造概率型图灵机 $\\mathrm{TURING_p}$："
   ]
  },
  {
   "cell_type": "code",
   "execution_count": null,
   "id": "e496ca8a",
   "metadata": {},
   "outputs": [],
   "source": [
    "def TURING_p(x):\n",
    "    y = HALT_p(x)\n",
    "    if y == 0:\n",
    "        stop\n",
    "    else:\n",
    "        dead_loop"
   ]
  },
  {
   "cell_type": "markdown",
   "id": "7a38f924",
   "metadata": {},
   "source": [
    "设 $\\mathrm{TURING_p}$ 对应的编号为 $t_p$. 根据概率停机函数的定义，$h_p(t_p) = 1$ 当且仅当 $\\mathrm{TURING_p}$ 在输入 $t_p$ 上以至少 1/2 的概率停机。但上方定义的函数 $\\mathrm{TURING_p}$ 表示其在输入 $t_p$ 上以至少 1/2 的概率停机当且仅当 $\\mathrm{HALT_p}(t_p)$ 以至少1/2 的概率输出为0, 而$\\mathrm{HALT_p}(t_p)$ 应以严格大于1/2的概率输出 $h_p(t_p) = 1$, 产生矛盾。"
   ]
  },
  {
   "cell_type": "markdown",
   "id": "ac32c305",
   "metadata": {},
   "source": [
    "#### E.3.7\n",
    "\n",
    "不可判定。且习题解答和专题3.2的论述完全平行，区别只是我们构造的TURING机是带神谕的。"
   ]
  },
  {
   "cell_type": "markdown",
   "id": "6d5c127e",
   "metadata": {},
   "source": [
    "#### E.3.8\n",
    "\n",
    "1. 与非门表示与门：引入两个辅助比特，将输入 $\\{a, b\\}$ 扇出到辅助比特 $\\{a, b\\}$。之后电路 $(a~\\mathrm{NAND}~b)\\mathrm{NAND}(a~\\mathrm{NAND}~b)$ 对于 $\\{a, b\\}$ 取 $\\{0, 0\\}$ 输出为 0, 对 $\\{0, 1\\}$ 输出为 0, 对 $\\{1, 0\\}$ 输出为 0, 对 $\\{1, 1\\}$ 输出为 1， 故该电路等价于与门。\n",
    "\n",
    "2. 与非门表示异或门：注意到 $a~\\mathrm{XOR}~b = (a~\\mathrm{NAND}~b)\\mathrm{AND}(a~\\mathrm{OR}~b)$, $(a~\\mathrm{OR}~b) = (\\mathrm{NOT}~a)~\\mathrm{NAND}~(\\mathrm{NOT}~b)$, 而由1和3, 与门和非门都能通过与非门构造，所以异或门也能通过与非门构造。\n",
    "\n",
    "3. 与非门表示非门：$a~\\mathrm{NAND}~a$; $a = 0$ 输出 1， $a = 1$ 输出 0， 等价于非门。"
   ]
  },
  {
   "cell_type": "markdown",
   "id": "62b0c920",
   "metadata": {},
   "source": [
    "#### E.3.9\n",
    "\n",
    "1. $f(n)$ 是 $O(g(n))$ 的 $ \\Leftrightarrow \\exists c 和 n_0, 对于所有 n > n_0, f(n) \\leq cg(n)$, 因为一般有 $f(n) > 0, g(n) > 0$ 所以上式成立必然需要 $c > 0$, 故上式等价于 $ g(n) \\geq \\frac{1}{c} f(n)$, 即 $g(n) 是 \\Omega(f(n)) 的$。\n",
    "\n",
    "2. $f(n) 是 \\Theta(g(n))$ 的 即等价于 $f(n) 是 O(g(n)) 和 \\Omega(g(n))$ 的, 由第一问推出 $g(n) 是 O(f(n)) 和 \\Omega(f(n))$ 的, 也即 $g(n) 是 \\Theta(f(n))$ 的。"
   ]
  },
  {
   "cell_type": "markdown",
   "id": "5f5e53d0",
   "metadata": {},
   "source": [
    "#### E.3.10\n",
    "\n",
    "对于足够大的n, 显然 $g(n) = \\sum_{i=0}^k c_i n^i \\leq (c_i + 1)n^l$ 对所有 $l \\geq k$ 成立。"
   ]
  },
  {
   "cell_type": "markdown",
   "id": "3d6a526c",
   "metadata": {},
   "source": [
    "#### E.3.11\n",
    "根据洛必达法则：\n",
    "$\\lim_{n \\to \\infty} \\frac{\\log n}{n^k} = \\lim_{n \\to \\infty} \\frac{1/n}{k n^{k-1}} = \\lim_{n \\to \\infty} \\frac{1}{k n^k} = 0$\n",
    "\n",
    "所以n很大时，$\\log n \\leq n^k$ 对于所以 $k > 0$ 成立，故 $\\log n$ 是 $O(n^k)$ 的。"
   ]
  },
  {
   "cell_type": "markdown",
   "id": "cf01380d",
   "metadata": {},
   "source": [
    "#### E.3.12\n",
    "\n",
    "1. 当 $\\log n > k$ 时，显然有 $n^k \\leq n^{\\log n}$, 故 $n^k$ 是 $O(n^{\\log n})$ 的。\n",
    "\n",
    "2. 对于所有常数c, 存在 $n_0$ 一定能满足 $(\\log n_0)^2 > \\log c + k \\log n_0$, 当 $n > n_0$ 时有 $n^{\\log n} > c n^k$ 成立，故 $n^{\\log n}$ 不可能是 $O(n^k)$ 的。"
   ]
  },
  {
   "cell_type": "markdown",
   "id": "f9a3cd26",
   "metadata": {},
   "source": [
    "#### E.3.13\n",
    "1. 对 $n^{\\log n}$ 和 $c^n$ 取对数得 $(\\log n)^2$ 和 $n \\log c$ 根据洛必达法则：$\\lim_{n \\to \\infty}\\frac{(\\log n)^2}{n \\log c} = \\lim_{n \\to \\infty}\\frac{2\\log n}{n\\log c} = 0$, 故 $c^n$ 是 $\\Omega(n^{\\log n})$ 的。\n",
    "\n",
    "2. 对任意常数d, $\\lim_{n \\to \\infty}\\frac{\\log d + (\\log n)^2}{n \\log c} = 0 \\Rightarrow \\lim_{n \\to \\infty}\\frac{d n^{\\log n}}{c^n} = 0$."
   ]
  },
  {
   "cell_type": "markdown",
   "id": "cbb325c8",
   "metadata": {},
   "source": [
    "#### E.3.14\n",
    "\n",
    "存在常数 $n_1, c_1$ 对于所有 $n > n_1$ 有 $e(n) < f(n)$, 存在常数 $n_2, c_2$ 对于所有 $n > n_2$ 有 $g(n) < h(n)$, 则对于所有 $ n > \\max(n_1, n_2)$ 有 $e(n)g(n) < c_1 c_2 f(n) h(n)$."
   ]
  },
  {
   "cell_type": "markdown",
   "id": "54ed2077",
   "metadata": {},
   "source": []
  }
 ],
 "metadata": {
  "kernelspec": {
   "display_name": "base",
   "language": "python",
   "name": "python3"
  },
  "language_info": {
   "codemirror_mode": {
    "name": "ipython",
    "version": 3
   },
   "file_extension": ".py",
   "mimetype": "text/x-python",
   "name": "python",
   "nbconvert_exporter": "python",
   "pygments_lexer": "ipython3",
   "version": "3.13.5"
  }
 },
 "nbformat": 4,
 "nbformat_minor": 5
}
