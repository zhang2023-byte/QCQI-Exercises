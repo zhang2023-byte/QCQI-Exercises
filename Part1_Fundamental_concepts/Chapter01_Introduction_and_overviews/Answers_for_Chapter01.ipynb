{
 "cells": [
  {
   "cell_type": "markdown",
   "id": "b84503fc",
   "metadata": {},
   "source": [
    "#### Q1.1\n",
    "A: 1+1=2"
   ]
  }
 ],
 "metadata": {
  "kernelspec": {
   "display_name": "base",
   "language": "python",
   "name": "python3"
  },
  "language_info": {
   "name": "python",
   "version": "3.12.2"
  }
 },
 "nbformat": 4,
 "nbformat_minor": 5
}
