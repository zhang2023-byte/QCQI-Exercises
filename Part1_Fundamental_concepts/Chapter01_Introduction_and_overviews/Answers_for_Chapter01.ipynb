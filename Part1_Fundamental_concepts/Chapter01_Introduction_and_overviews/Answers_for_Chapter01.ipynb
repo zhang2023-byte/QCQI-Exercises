{
 "cells": [
  {
   "cell_type": "markdown",
   "id": "b84503fc",
   "metadata": {},
   "source": [
    "#### E.1.1\n",
    "A: 假设我们进行N次试验($N \\geq 2$)，只要此N次试验中出现两个结果或$N \\geq 2^n/2 + 1$，就能完全确定未知函数为平衡函数或常函数。所以题意应为若此N此试验（$2 \\leq N \\leq 2^n/2 + 1$）都得到同样的结果，求分别认为未知函数是常函数和平衡函数的概率。\n",
    "\n",
    "在此我们采用贝叶斯框架，认为未知函数是常函数和平衡函数的先验概率为：\n",
    "$$P(const)=P(balance)=0.5.$$\n",
    "\n",
    "data: 进行N次试验（$2 \\leq N \\leq 2^n/2 + 1$），都得到了相同的结果。\n",
    "\n",
    "则\n",
    "$$P(const|data)=\\frac{P(data|const)P(const)}{P(data|const)P(const) + P(data|balance)P(balance)},$$\n",
    "$$P(balance|data)=\\frac{P(data|balance)P(balance)}{P(data|const)P(const) + P(data|balance)P(balance)}.$$\n",
    "\n",
    "易得\n",
    "$$P(data|const)=1,$$\n",
    "$$P(data|balance)=\\frac{2^{n-1}}{2^n}\\frac{2^{n-1}-1}{2^n-1}...\\frac{2^{n-1}-N+1}{2^n-N+1} = \\frac{2^{n-1} \\choose N}{2^n \\choose N} < \\frac{1}{2^{N-1}}$$\n",
    "\n",
    "则\n",
    "$$P(const|data)=\\frac{0.5}{0.5 + 0.5 * \\frac{2^{n-1} \\choose N}{2^n \\choose N}} > \\frac{1}{1+0.5^{N-1}}$$\n",
    "$$P(balance|data) = 1 - P(const|data) < \\frac{1}{1+0.5^{N-1}}$$"
   ]
  },
  {
   "cell_type": "markdown",
   "id": "33420118",
   "metadata": {},
   "source": []
  }
 ],
 "metadata": {
  "kernelspec": {
   "display_name": "base",
   "language": "python",
   "name": "python3"
  },
  "language_info": {
   "name": "python",
   "version": "3.12.2"
  }
 },
 "nbformat": 4,
 "nbformat_minor": 5
}
